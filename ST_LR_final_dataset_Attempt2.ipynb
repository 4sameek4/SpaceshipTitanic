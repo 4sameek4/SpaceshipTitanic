{
 "cells": [
  {
   "cell_type": "code",
   "execution_count": 2,
   "id": "a08895fc",
   "metadata": {},
   "outputs": [],
   "source": [
    "#Importing the required packages\n",
    "\n",
    "import pandas as pd\n",
    "import numpy as np\n",
    "import matplotlib.pyplot as plt\n",
    "import seaborn as sns\n",
    "from sklearn.linear_model import LogisticRegression\n",
    "from sklearn.model_selection import train_test_split\n",
    "from sklearn.metrics import accuracy_score, confusion_matrix, classification_report"
   ]
  },
  {
   "cell_type": "code",
   "execution_count": 3,
   "id": "85bd38a1",
   "metadata": {},
   "outputs": [
    {
     "data": {
      "text/html": [
       "<div>\n",
       "<style scoped>\n",
       "    .dataframe tbody tr th:only-of-type {\n",
       "        vertical-align: middle;\n",
       "    }\n",
       "\n",
       "    .dataframe tbody tr th {\n",
       "        vertical-align: top;\n",
       "    }\n",
       "\n",
       "    .dataframe thead th {\n",
       "        text-align: right;\n",
       "    }\n",
       "</style>\n",
       "<table border=\"1\" class=\"dataframe\">\n",
       "  <thead>\n",
       "    <tr style=\"text-align: right;\">\n",
       "      <th></th>\n",
       "      <th>PassengerId</th>\n",
       "      <th>HomePlanet</th>\n",
       "      <th>CryoSleep</th>\n",
       "      <th>Cabin</th>\n",
       "      <th>Destination</th>\n",
       "      <th>Age</th>\n",
       "      <th>VIP</th>\n",
       "      <th>RoomService</th>\n",
       "      <th>FoodCourt</th>\n",
       "      <th>ShoppingMall</th>\n",
       "      <th>Spa</th>\n",
       "      <th>VRDeck</th>\n",
       "      <th>Name</th>\n",
       "      <th>Transported</th>\n",
       "    </tr>\n",
       "  </thead>\n",
       "  <tbody>\n",
       "    <tr>\n",
       "      <th>0</th>\n",
       "      <td>0001_01</td>\n",
       "      <td>Europa</td>\n",
       "      <td>False</td>\n",
       "      <td>B/0/P</td>\n",
       "      <td>TRAPPIST-1e</td>\n",
       "      <td>39.0</td>\n",
       "      <td>False</td>\n",
       "      <td>0.0</td>\n",
       "      <td>0.0</td>\n",
       "      <td>0.0</td>\n",
       "      <td>0.0</td>\n",
       "      <td>0.0</td>\n",
       "      <td>Maham Ofracculy</td>\n",
       "      <td>False</td>\n",
       "    </tr>\n",
       "    <tr>\n",
       "      <th>1</th>\n",
       "      <td>0002_01</td>\n",
       "      <td>Earth</td>\n",
       "      <td>False</td>\n",
       "      <td>F/0/S</td>\n",
       "      <td>TRAPPIST-1e</td>\n",
       "      <td>24.0</td>\n",
       "      <td>False</td>\n",
       "      <td>109.0</td>\n",
       "      <td>9.0</td>\n",
       "      <td>25.0</td>\n",
       "      <td>549.0</td>\n",
       "      <td>44.0</td>\n",
       "      <td>Juanna Vines</td>\n",
       "      <td>True</td>\n",
       "    </tr>\n",
       "    <tr>\n",
       "      <th>2</th>\n",
       "      <td>0003_01</td>\n",
       "      <td>Europa</td>\n",
       "      <td>False</td>\n",
       "      <td>A/0/S</td>\n",
       "      <td>TRAPPIST-1e</td>\n",
       "      <td>58.0</td>\n",
       "      <td>True</td>\n",
       "      <td>43.0</td>\n",
       "      <td>3576.0</td>\n",
       "      <td>0.0</td>\n",
       "      <td>6715.0</td>\n",
       "      <td>49.0</td>\n",
       "      <td>Altark Susent</td>\n",
       "      <td>False</td>\n",
       "    </tr>\n",
       "    <tr>\n",
       "      <th>3</th>\n",
       "      <td>0003_02</td>\n",
       "      <td>Europa</td>\n",
       "      <td>False</td>\n",
       "      <td>A/0/S</td>\n",
       "      <td>TRAPPIST-1e</td>\n",
       "      <td>33.0</td>\n",
       "      <td>False</td>\n",
       "      <td>0.0</td>\n",
       "      <td>1283.0</td>\n",
       "      <td>371.0</td>\n",
       "      <td>3329.0</td>\n",
       "      <td>193.0</td>\n",
       "      <td>Solam Susent</td>\n",
       "      <td>False</td>\n",
       "    </tr>\n",
       "    <tr>\n",
       "      <th>4</th>\n",
       "      <td>0004_01</td>\n",
       "      <td>Earth</td>\n",
       "      <td>False</td>\n",
       "      <td>F/1/S</td>\n",
       "      <td>TRAPPIST-1e</td>\n",
       "      <td>16.0</td>\n",
       "      <td>False</td>\n",
       "      <td>303.0</td>\n",
       "      <td>70.0</td>\n",
       "      <td>151.0</td>\n",
       "      <td>565.0</td>\n",
       "      <td>2.0</td>\n",
       "      <td>Willy Santantines</td>\n",
       "      <td>True</td>\n",
       "    </tr>\n",
       "  </tbody>\n",
       "</table>\n",
       "</div>"
      ],
      "text/plain": [
       "  PassengerId HomePlanet CryoSleep  Cabin  Destination   Age    VIP  \\\n",
       "0     0001_01     Europa     False  B/0/P  TRAPPIST-1e  39.0  False   \n",
       "1     0002_01      Earth     False  F/0/S  TRAPPIST-1e  24.0  False   \n",
       "2     0003_01     Europa     False  A/0/S  TRAPPIST-1e  58.0   True   \n",
       "3     0003_02     Europa     False  A/0/S  TRAPPIST-1e  33.0  False   \n",
       "4     0004_01      Earth     False  F/1/S  TRAPPIST-1e  16.0  False   \n",
       "\n",
       "   RoomService  FoodCourt  ShoppingMall     Spa  VRDeck               Name  \\\n",
       "0          0.0        0.0           0.0     0.0     0.0    Maham Ofracculy   \n",
       "1        109.0        9.0          25.0   549.0    44.0       Juanna Vines   \n",
       "2         43.0     3576.0           0.0  6715.0    49.0      Altark Susent   \n",
       "3          0.0     1283.0         371.0  3329.0   193.0       Solam Susent   \n",
       "4        303.0       70.0         151.0   565.0     2.0  Willy Santantines   \n",
       "\n",
       "   Transported  \n",
       "0        False  \n",
       "1         True  \n",
       "2        False  \n",
       "3        False  \n",
       "4         True  "
      ]
     },
     "execution_count": 3,
     "metadata": {},
     "output_type": "execute_result"
    }
   ],
   "source": [
    "#Reading the overall train dataset\n",
    "data = pd.read_csv('C:/Users/bhatt/OneDrive/Desktop/Sameek/0. University of North Texas/UNT Masters Course/Semester 1 - Fall 2024/CSCE 5214 - Software Development for AI/Project 1/spaceship-titanic/train.csv')\n",
    "\n",
    "#Displaying the first 5 rows of the overall train dataset\n",
    "data.head()"
   ]
  },
  {
   "cell_type": "code",
   "execution_count": 4,
   "id": "68268e7d",
   "metadata": {},
   "outputs": [
    {
     "data": {
      "text/plain": [
       "PassengerId      object\n",
       "HomePlanet       object\n",
       "CryoSleep        object\n",
       "Cabin            object\n",
       "Destination      object\n",
       "Age             float64\n",
       "VIP              object\n",
       "RoomService     float64\n",
       "FoodCourt       float64\n",
       "ShoppingMall    float64\n",
       "Spa             float64\n",
       "VRDeck          float64\n",
       "Name             object\n",
       "Transported        bool\n",
       "dtype: object"
      ]
     },
     "execution_count": 4,
     "metadata": {},
     "output_type": "execute_result"
    }
   ],
   "source": [
    "#Getting the datatypes of the dataset\n",
    "data.dtypes"
   ]
  },
  {
   "cell_type": "code",
   "execution_count": 5,
   "id": "c370cf73",
   "metadata": {},
   "outputs": [
    {
     "name": "stderr",
     "output_type": "stream",
     "text": [
      "C:\\Users\\bhatt\\AppData\\Local\\Temp\\ipykernel_10148\\3979601967.py:4: SettingWithCopyWarning: \n",
      "A value is trying to be set on a copy of a slice from a DataFrame.\n",
      "Try using .loc[row_indexer,col_indexer] = value instead\n",
      "\n",
      "See the caveats in the documentation: https://pandas.pydata.org/pandas-docs/stable/user_guide/indexing.html#returning-a-view-versus-a-copy\n",
      "  data_TotalExpenses['Total Expenses'] = data_TotalExpenses.sum(axis=1)\n",
      "C:\\Users\\bhatt\\AppData\\Local\\Temp\\ipykernel_10148\\3979601967.py:12: SettingWithCopyWarning: \n",
      "A value is trying to be set on a copy of a slice from a DataFrame.\n",
      "Try using .loc[row_indexer,col_indexer] = value instead\n",
      "\n",
      "See the caveats in the documentation: https://pandas.pydata.org/pandas-docs/stable/user_guide/indexing.html#returning-a-view-versus-a-copy\n",
      "  data_updated[['Deck','Num', 'Side']] = data_updated['Cabin'].str.split('/', expand=True)\n",
      "C:\\Users\\bhatt\\AppData\\Local\\Temp\\ipykernel_10148\\3979601967.py:12: SettingWithCopyWarning: \n",
      "A value is trying to be set on a copy of a slice from a DataFrame.\n",
      "Try using .loc[row_indexer,col_indexer] = value instead\n",
      "\n",
      "See the caveats in the documentation: https://pandas.pydata.org/pandas-docs/stable/user_guide/indexing.html#returning-a-view-versus-a-copy\n",
      "  data_updated[['Deck','Num', 'Side']] = data_updated['Cabin'].str.split('/', expand=True)\n",
      "C:\\Users\\bhatt\\AppData\\Local\\Temp\\ipykernel_10148\\3979601967.py:12: SettingWithCopyWarning: \n",
      "A value is trying to be set on a copy of a slice from a DataFrame.\n",
      "Try using .loc[row_indexer,col_indexer] = value instead\n",
      "\n",
      "See the caveats in the documentation: https://pandas.pydata.org/pandas-docs/stable/user_guide/indexing.html#returning-a-view-versus-a-copy\n",
      "  data_updated[['Deck','Num', 'Side']] = data_updated['Cabin'].str.split('/', expand=True)\n"
     ]
    },
    {
     "data": {
      "text/html": [
       "<div>\n",
       "<style scoped>\n",
       "    .dataframe tbody tr th:only-of-type {\n",
       "        vertical-align: middle;\n",
       "    }\n",
       "\n",
       "    .dataframe tbody tr th {\n",
       "        vertical-align: top;\n",
       "    }\n",
       "\n",
       "    .dataframe thead th {\n",
       "        text-align: right;\n",
       "    }\n",
       "</style>\n",
       "<table border=\"1\" class=\"dataframe\">\n",
       "  <thead>\n",
       "    <tr style=\"text-align: right;\">\n",
       "      <th></th>\n",
       "      <th>PassengerId</th>\n",
       "      <th>HomePlanet</th>\n",
       "      <th>CryoSleep</th>\n",
       "      <th>Deck</th>\n",
       "      <th>Num</th>\n",
       "      <th>Side</th>\n",
       "      <th>Destination</th>\n",
       "      <th>Age</th>\n",
       "      <th>VIP</th>\n",
       "      <th>Total Expenses</th>\n",
       "      <th>Transported</th>\n",
       "    </tr>\n",
       "  </thead>\n",
       "  <tbody>\n",
       "    <tr>\n",
       "      <th>0</th>\n",
       "      <td>0001_01</td>\n",
       "      <td>Europa</td>\n",
       "      <td>False</td>\n",
       "      <td>B</td>\n",
       "      <td>0</td>\n",
       "      <td>P</td>\n",
       "      <td>TRAPPIST-1e</td>\n",
       "      <td>39.0</td>\n",
       "      <td>False</td>\n",
       "      <td>0.0</td>\n",
       "      <td>False</td>\n",
       "    </tr>\n",
       "    <tr>\n",
       "      <th>1</th>\n",
       "      <td>0002_01</td>\n",
       "      <td>Earth</td>\n",
       "      <td>False</td>\n",
       "      <td>F</td>\n",
       "      <td>0</td>\n",
       "      <td>S</td>\n",
       "      <td>TRAPPIST-1e</td>\n",
       "      <td>24.0</td>\n",
       "      <td>False</td>\n",
       "      <td>692.0</td>\n",
       "      <td>True</td>\n",
       "    </tr>\n",
       "    <tr>\n",
       "      <th>2</th>\n",
       "      <td>0003_01</td>\n",
       "      <td>Europa</td>\n",
       "      <td>False</td>\n",
       "      <td>A</td>\n",
       "      <td>0</td>\n",
       "      <td>S</td>\n",
       "      <td>TRAPPIST-1e</td>\n",
       "      <td>58.0</td>\n",
       "      <td>True</td>\n",
       "      <td>10334.0</td>\n",
       "      <td>False</td>\n",
       "    </tr>\n",
       "    <tr>\n",
       "      <th>3</th>\n",
       "      <td>0003_02</td>\n",
       "      <td>Europa</td>\n",
       "      <td>False</td>\n",
       "      <td>A</td>\n",
       "      <td>0</td>\n",
       "      <td>S</td>\n",
       "      <td>TRAPPIST-1e</td>\n",
       "      <td>33.0</td>\n",
       "      <td>False</td>\n",
       "      <td>4983.0</td>\n",
       "      <td>False</td>\n",
       "    </tr>\n",
       "    <tr>\n",
       "      <th>4</th>\n",
       "      <td>0004_01</td>\n",
       "      <td>Earth</td>\n",
       "      <td>False</td>\n",
       "      <td>F</td>\n",
       "      <td>1</td>\n",
       "      <td>S</td>\n",
       "      <td>TRAPPIST-1e</td>\n",
       "      <td>16.0</td>\n",
       "      <td>False</td>\n",
       "      <td>1089.0</td>\n",
       "      <td>True</td>\n",
       "    </tr>\n",
       "    <tr>\n",
       "      <th>...</th>\n",
       "      <td>...</td>\n",
       "      <td>...</td>\n",
       "      <td>...</td>\n",
       "      <td>...</td>\n",
       "      <td>...</td>\n",
       "      <td>...</td>\n",
       "      <td>...</td>\n",
       "      <td>...</td>\n",
       "      <td>...</td>\n",
       "      <td>...</td>\n",
       "      <td>...</td>\n",
       "    </tr>\n",
       "    <tr>\n",
       "      <th>8688</th>\n",
       "      <td>9276_01</td>\n",
       "      <td>Europa</td>\n",
       "      <td>False</td>\n",
       "      <td>A</td>\n",
       "      <td>98</td>\n",
       "      <td>P</td>\n",
       "      <td>55 Cancri e</td>\n",
       "      <td>41.0</td>\n",
       "      <td>True</td>\n",
       "      <td>8462.0</td>\n",
       "      <td>False</td>\n",
       "    </tr>\n",
       "    <tr>\n",
       "      <th>8689</th>\n",
       "      <td>9278_01</td>\n",
       "      <td>Earth</td>\n",
       "      <td>True</td>\n",
       "      <td>G</td>\n",
       "      <td>1499</td>\n",
       "      <td>S</td>\n",
       "      <td>PSO J318.5-22</td>\n",
       "      <td>18.0</td>\n",
       "      <td>False</td>\n",
       "      <td>0.0</td>\n",
       "      <td>False</td>\n",
       "    </tr>\n",
       "    <tr>\n",
       "      <th>8690</th>\n",
       "      <td>9279_01</td>\n",
       "      <td>Earth</td>\n",
       "      <td>False</td>\n",
       "      <td>G</td>\n",
       "      <td>1500</td>\n",
       "      <td>S</td>\n",
       "      <td>TRAPPIST-1e</td>\n",
       "      <td>26.0</td>\n",
       "      <td>False</td>\n",
       "      <td>1873.0</td>\n",
       "      <td>True</td>\n",
       "    </tr>\n",
       "    <tr>\n",
       "      <th>8691</th>\n",
       "      <td>9280_01</td>\n",
       "      <td>Europa</td>\n",
       "      <td>False</td>\n",
       "      <td>E</td>\n",
       "      <td>608</td>\n",
       "      <td>S</td>\n",
       "      <td>55 Cancri e</td>\n",
       "      <td>32.0</td>\n",
       "      <td>False</td>\n",
       "      <td>1402.0</td>\n",
       "      <td>False</td>\n",
       "    </tr>\n",
       "    <tr>\n",
       "      <th>8692</th>\n",
       "      <td>9280_02</td>\n",
       "      <td>Europa</td>\n",
       "      <td>False</td>\n",
       "      <td>E</td>\n",
       "      <td>608</td>\n",
       "      <td>S</td>\n",
       "      <td>TRAPPIST-1e</td>\n",
       "      <td>44.0</td>\n",
       "      <td>False</td>\n",
       "      <td>4814.0</td>\n",
       "      <td>True</td>\n",
       "    </tr>\n",
       "  </tbody>\n",
       "</table>\n",
       "<p>8693 rows × 11 columns</p>\n",
       "</div>"
      ],
      "text/plain": [
       "     PassengerId HomePlanet CryoSleep Deck   Num Side    Destination   Age  \\\n",
       "0        0001_01     Europa     False    B     0    P    TRAPPIST-1e  39.0   \n",
       "1        0002_01      Earth     False    F     0    S    TRAPPIST-1e  24.0   \n",
       "2        0003_01     Europa     False    A     0    S    TRAPPIST-1e  58.0   \n",
       "3        0003_02     Europa     False    A     0    S    TRAPPIST-1e  33.0   \n",
       "4        0004_01      Earth     False    F     1    S    TRAPPIST-1e  16.0   \n",
       "...          ...        ...       ...  ...   ...  ...            ...   ...   \n",
       "8688     9276_01     Europa     False    A    98    P    55 Cancri e  41.0   \n",
       "8689     9278_01      Earth      True    G  1499    S  PSO J318.5-22  18.0   \n",
       "8690     9279_01      Earth     False    G  1500    S    TRAPPIST-1e  26.0   \n",
       "8691     9280_01     Europa     False    E   608    S    55 Cancri e  32.0   \n",
       "8692     9280_02     Europa     False    E   608    S    TRAPPIST-1e  44.0   \n",
       "\n",
       "        VIP  Total Expenses  Transported  \n",
       "0     False             0.0        False  \n",
       "1     False           692.0         True  \n",
       "2      True         10334.0        False  \n",
       "3     False          4983.0        False  \n",
       "4     False          1089.0         True  \n",
       "...     ...             ...          ...  \n",
       "8688   True          8462.0        False  \n",
       "8689  False             0.0        False  \n",
       "8690  False          1873.0         True  \n",
       "8691  False          1402.0        False  \n",
       "8692  False          4814.0         True  \n",
       "\n",
       "[8693 rows x 11 columns]"
      ]
     },
     "execution_count": 5,
     "metadata": {},
     "output_type": "execute_result"
    }
   ],
   "source": [
    "data_TotalExpenses = data[['RoomService', 'FoodCourt','ShoppingMall','Spa']]\n",
    "\n",
    "# Calculate sum of each row and create 'sum' column\n",
    "data_TotalExpenses['Total Expenses'] = data_TotalExpenses.sum(axis=1)\n",
    "\n",
    "# Create 'Total Expenses' column in the original DataFrame\n",
    "data['Total Expenses'] = data_TotalExpenses['Total Expenses']\n",
    "\n",
    "data_updated = data[['PassengerId', 'HomePlanet', 'CryoSleep', 'Cabin', 'Destination', 'Age', 'VIP', 'Transported', 'Total Expenses']]\n",
    "\n",
    "# Splitting the 'Cabin' column\n",
    "data_updated[['Deck','Num', 'Side']] = data_updated['Cabin'].str.split('/', expand=True)\n",
    "\n",
    "# Selecting the desired columns for the final data_updated DataFrame\n",
    "data_updated = data_updated[['PassengerId', 'HomePlanet', 'CryoSleep', 'Deck', 'Num', 'Side', 'Destination', 'Age', 'VIP', 'Total Expenses','Transported']]\n",
    "data_updated"
   ]
  },
  {
   "cell_type": "code",
   "execution_count": 6,
   "id": "a9b02aa3",
   "metadata": {},
   "outputs": [
    {
     "name": "stdout",
     "output_type": "stream",
     "text": [
      "PassengerId         0\n",
      "HomePlanet        201\n",
      "CryoSleep         217\n",
      "Deck              199\n",
      "Num               199\n",
      "Side              199\n",
      "Destination       182\n",
      "Age               179\n",
      "VIP               203\n",
      "Total Expenses      0\n",
      "Transported         0\n",
      "dtype: int64\n"
     ]
    }
   ],
   "source": [
    "#print the number of missing values in each column\n",
    "print(data_updated.isnull().sum())"
   ]
  },
  {
   "cell_type": "code",
   "execution_count": 7,
   "id": "86e017cc",
   "metadata": {
    "id": "nkYPbGWcXQHR"
   },
   "outputs": [],
   "source": [
    "data_updated.loc[(data_updated['Total Expenses'] == 0) & (data_updated['CryoSleep'].isnull()), 'CryoSleep'] = True"
   ]
  },
  {
   "cell_type": "code",
   "execution_count": 8,
   "id": "d393c9c6",
   "metadata": {
    "id": "Yf5pimDJZDwx"
   },
   "outputs": [],
   "source": [
    "data_updated.loc[(data_updated['Total Expenses'] != 0) & (data_updated['CryoSleep'].isnull()), 'CryoSleep'] = False"
   ]
  },
  {
   "cell_type": "code",
   "execution_count": 9,
   "id": "c31e2338",
   "metadata": {
    "colab": {
     "base_uri": "https://localhost:8080/"
    },
    "id": "oHmzPDczXT-0",
    "outputId": "78e2abd0-e123-4c6b-957e-a384fbec9ce1"
   },
   "outputs": [
    {
     "name": "stdout",
     "output_type": "stream",
     "text": [
      "PassengerId         0\n",
      "HomePlanet        201\n",
      "CryoSleep           0\n",
      "Deck              199\n",
      "Num               199\n",
      "Side              199\n",
      "Destination       182\n",
      "Age               179\n",
      "VIP               203\n",
      "Total Expenses      0\n",
      "Transported         0\n",
      "dtype: int64\n"
     ]
    }
   ],
   "source": [
    "print(data_updated.isnull().sum())"
   ]
  },
  {
   "cell_type": "code",
   "execution_count": 10,
   "id": "5873ab60",
   "metadata": {
    "colab": {
     "base_uri": "https://localhost:8080/"
    },
    "id": "0gXgf-i7Z7G1",
    "outputId": "4a21ab4d-9b6e-468c-bef1-085440ada588"
   },
   "outputs": [
    {
     "name": "stdout",
     "output_type": "stream",
     "text": [
      "0\n"
     ]
    }
   ],
   "source": [
    "print(data_updated[(data_updated['Age'] < 18) & (data_updated['VIP'] == True)].shape[0])"
   ]
  },
  {
   "cell_type": "code",
   "execution_count": 11,
   "id": "ceb550ce",
   "metadata": {
    "id": "Pngd-JD3em4n"
   },
   "outputs": [],
   "source": [
    "data_updated.loc[(data_updated['Age'] < 18) & (data_updated['VIP'].isnull()), 'VIP'] = False"
   ]
  },
  {
   "cell_type": "code",
   "execution_count": 12,
   "id": "d77a259a",
   "metadata": {
    "colab": {
     "base_uri": "https://localhost:8080/"
    },
    "id": "qN0CwrFnfgbM",
    "outputId": "b70bc999-618e-44bf-ea09-e4d60ceb79fb"
   },
   "outputs": [
    {
     "name": "stdout",
     "output_type": "stream",
     "text": [
      "PassengerId         0\n",
      "HomePlanet        201\n",
      "CryoSleep           0\n",
      "Deck              199\n",
      "Num               199\n",
      "Side              199\n",
      "Destination       182\n",
      "Age               179\n",
      "VIP               158\n",
      "Total Expenses      0\n",
      "Transported         0\n",
      "dtype: int64\n"
     ]
    }
   ],
   "source": [
    "print(data_updated.isnull().sum())"
   ]
  },
  {
   "cell_type": "code",
   "execution_count": 13,
   "id": "9a285694",
   "metadata": {
    "colab": {
     "base_uri": "https://localhost:8080/"
    },
    "id": "iq_KbKZvgNXp",
    "outputId": "53a25a7d-f887-4231-90c7-7d546517044a"
   },
   "outputs": [
    {
     "name": "stdout",
     "output_type": "stream",
     "text": [
      "0\n"
     ]
    }
   ],
   "source": [
    "print(data_updated[(data_updated['HomePlanet'] == 'Earth') & (data_updated['VIP'] == True)].shape[0])"
   ]
  },
  {
   "cell_type": "code",
   "execution_count": 14,
   "id": "5a7f8bec",
   "metadata": {
    "id": "VokxeRFWiMu6"
   },
   "outputs": [],
   "source": [
    "data_updated.loc[(data_updated['HomePlanet'] == 'Earth') & (data_updated['VIP'].isnull()), 'VIP'] = False"
   ]
  },
  {
   "cell_type": "code",
   "execution_count": 15,
   "id": "f731955b",
   "metadata": {
    "colab": {
     "base_uri": "https://localhost:8080/"
    },
    "id": "VsttbWLfiXPK",
    "outputId": "f72a1ca9-e39d-48df-cb54-a4ffdf6b10f1"
   },
   "outputs": [
    {
     "name": "stdout",
     "output_type": "stream",
     "text": [
      "PassengerId         0\n",
      "HomePlanet        201\n",
      "CryoSleep           0\n",
      "Deck              199\n",
      "Num               199\n",
      "Side              199\n",
      "Destination       182\n",
      "Age               179\n",
      "VIP                76\n",
      "Total Expenses      0\n",
      "Transported         0\n",
      "dtype: int64\n"
     ]
    }
   ],
   "source": [
    "print(data_updated.isnull().sum())"
   ]
  },
  {
   "cell_type": "markdown",
   "id": "6d1ca0b3",
   "metadata": {
    "id": "VNps0d2LxGI2"
   },
   "source": [
    "## Handling the missing values in 'HomePlanet'"
   ]
  },
  {
   "cell_type": "code",
   "execution_count": 16,
   "id": "16b83569",
   "metadata": {
    "id": "Pp2ZVuPGsTJU"
   },
   "outputs": [],
   "source": [
    "data_updated[['Group','Person']] = data_updated['PassengerId'].str.split('_', expand=True)\n",
    "data_updated['PassengerId'] = data['PassengerId']\n",
    "data_updated = data_updated[['PassengerId', 'Group', 'HomePlanet', 'CryoSleep', 'Deck', 'Num', 'Side', 'Destination', 'Age', 'VIP', 'Total Expenses','Transported']]"
   ]
  },
  {
   "cell_type": "code",
   "execution_count": 17,
   "id": "f164f744",
   "metadata": {
    "id": "2SWLoOwrpIJB"
   },
   "outputs": [
    {
     "name": "stderr",
     "output_type": "stream",
     "text": [
      "C:\\Users\\bhatt\\AppData\\Local\\Temp\\ipykernel_10148\\3583414770.py:1: SettingWithCopyWarning: \n",
      "A value is trying to be set on a copy of a slice from a DataFrame.\n",
      "Try using .loc[row_indexer,col_indexer] = value instead\n",
      "\n",
      "See the caveats in the documentation: https://pandas.pydata.org/pandas-docs/stable/user_guide/indexing.html#returning-a-view-versus-a-copy\n",
      "  data_updated.loc[:, 'HomePlanet'] = data_updated.groupby('Group')['HomePlanet'].ffill()\n",
      "C:\\Users\\bhatt\\AppData\\Local\\Temp\\ipykernel_10148\\3583414770.py:2: SettingWithCopyWarning: \n",
      "A value is trying to be set on a copy of a slice from a DataFrame.\n",
      "Try using .loc[row_indexer,col_indexer] = value instead\n",
      "\n",
      "See the caveats in the documentation: https://pandas.pydata.org/pandas-docs/stable/user_guide/indexing.html#returning-a-view-versus-a-copy\n",
      "  data_updated.loc[:, 'HomePlanet'] = data_updated.groupby('Group')['HomePlanet'].bfill()\n"
     ]
    }
   ],
   "source": [
    "data_updated.loc[:, 'HomePlanet'] = data_updated.groupby('Group')['HomePlanet'].ffill()\n",
    "data_updated.loc[:, 'HomePlanet'] = data_updated.groupby('Group')['HomePlanet'].bfill()"
   ]
  },
  {
   "cell_type": "code",
   "execution_count": 18,
   "id": "343de36e",
   "metadata": {
    "colab": {
     "base_uri": "https://localhost:8080/"
    },
    "id": "njAHT6EwpKan",
    "outputId": "49faedb4-a2c2-45cb-8df5-073c03994fed"
   },
   "outputs": [
    {
     "name": "stdout",
     "output_type": "stream",
     "text": [
      "PassengerId         0\n",
      "Group               0\n",
      "HomePlanet        111\n",
      "CryoSleep           0\n",
      "Deck              199\n",
      "Num               199\n",
      "Side              199\n",
      "Destination       182\n",
      "Age               179\n",
      "VIP                76\n",
      "Total Expenses      0\n",
      "Transported         0\n",
      "dtype: int64\n"
     ]
    }
   ],
   "source": [
    "print(data_updated.isnull().sum())\n",
    "#there are still a few missing values in HomePlanet because some groups have only one person each"
   ]
  },
  {
   "cell_type": "code",
   "execution_count": 19,
   "id": "a3c1fd2b",
   "metadata": {
    "id": "fWXVg7eHzzRr"
   },
   "outputs": [],
   "source": [
    "data_updated.loc[data_updated['Deck'].isin(['A', 'B', 'C', 'T']) & data_updated['HomePlanet'].isnull(), 'HomePlanet'] = 'Europa'"
   ]
  },
  {
   "cell_type": "code",
   "execution_count": 20,
   "id": "0a06b876",
   "metadata": {
    "colab": {
     "base_uri": "https://localhost:8080/"
    },
    "id": "nbCnGm6Ez8RA",
    "outputId": "7bcfef6c-512a-4810-8e1f-6b4c3cbcc1d3"
   },
   "outputs": [
    {
     "name": "stdout",
     "output_type": "stream",
     "text": [
      "PassengerId         0\n",
      "Group               0\n",
      "HomePlanet        104\n",
      "CryoSleep           0\n",
      "Deck              199\n",
      "Num               199\n",
      "Side              199\n",
      "Destination       182\n",
      "Age               179\n",
      "VIP                76\n",
      "Total Expenses      0\n",
      "Transported         0\n",
      "dtype: int64\n"
     ]
    }
   ],
   "source": [
    "print(data_updated.isnull().sum())"
   ]
  },
  {
   "cell_type": "code",
   "execution_count": 21,
   "id": "9d25939f",
   "metadata": {
    "id": "N8lD4-zP0TAf"
   },
   "outputs": [],
   "source": [
    "data_updated.loc[(data_updated['Deck'] == 'D') & data_updated['HomePlanet'].isnull(), 'HomePlanet'] = 'Mars'"
   ]
  },
  {
   "cell_type": "code",
   "execution_count": 22,
   "id": "8662b664",
   "metadata": {
    "colab": {
     "base_uri": "https://localhost:8080/"
    },
    "id": "EfboauHP0nHQ",
    "outputId": "c86af9c8-1434-46c2-ec16-6b20ad72ffda"
   },
   "outputs": [
    {
     "name": "stdout",
     "output_type": "stream",
     "text": [
      "PassengerId         0\n",
      "Group               0\n",
      "HomePlanet        100\n",
      "CryoSleep           0\n",
      "Deck              199\n",
      "Num               199\n",
      "Side              199\n",
      "Destination       182\n",
      "Age               179\n",
      "VIP                76\n",
      "Total Expenses      0\n",
      "Transported         0\n",
      "dtype: int64\n"
     ]
    }
   ],
   "source": [
    "print(data_updated.isnull().sum())"
   ]
  },
  {
   "cell_type": "code",
   "execution_count": 24,
   "id": "b929afa4",
   "metadata": {
    "colab": {
     "base_uri": "https://localhost:8080/"
    },
    "id": "s97Zl8mO4dTU",
    "outputId": "15cb0607-7f65-44fa-a010-967143269e39"
   },
   "outputs": [
    {
     "name": "stdout",
     "output_type": "stream",
     "text": [
      "PassengerId       0\n",
      "Group             0\n",
      "HomePlanet        0\n",
      "CryoSleep         0\n",
      "Deck              0\n",
      "Num               0\n",
      "Side              0\n",
      "Destination       0\n",
      "Age               0\n",
      "VIP               0\n",
      "Total Expenses    0\n",
      "Transported       0\n",
      "dtype: int64\n"
     ]
    },
    {
     "name": "stderr",
     "output_type": "stream",
     "text": [
      "C:\\Users\\bhatt\\AppData\\Local\\Temp\\ipykernel_10148\\1744089664.py:37: SettingWithCopyWarning: \n",
      "A value is trying to be set on a copy of a slice from a DataFrame.\n",
      "Try using .loc[row_indexer,col_indexer] = value instead\n",
      "\n",
      "See the caveats in the documentation: https://pandas.pydata.org/pandas-docs/stable/user_guide/indexing.html#returning-a-view-versus-a-copy\n",
      "  data_updated[feature] = data_imputed[feature]\n"
     ]
    }
   ],
   "source": [
    "from sklearn.impute import KNNImputer\n",
    "\n",
    "\n",
    "# Create a copy of the DataFrame to avoid modifying the original\n",
    "data_imputed = data_updated.copy()\n",
    "\n",
    "# Select relevant columns for KNN imputation (numerical and categorical)\n",
    "features = ['HomePlanet','Age', 'Deck', 'Num', 'Side', 'Destination', 'VIP']\n",
    "data_subset = data_imputed[features]\n",
    "\n",
    "# Convert categorical features to numerical using one-hot encoding\n",
    "data_encoded = pd.get_dummies(data_subset, columns=['HomePlanet', 'Deck', 'Side', 'Destination', 'VIP'], dummy_na=False) #dummy_na=False will ignore nan values during one-hot encoding\n",
    "\n",
    "# Initialize KNNImputer\n",
    "imputer = KNNImputer(n_neighbors=5)  # You can adjust the number of neighbors\n",
    "\n",
    "# Fit and transform the data\n",
    "data_imputed_array = imputer.fit_transform(data_encoded)\n",
    "\n",
    "# Convert the imputed array back to a DataFrame\n",
    "data_imputed = pd.DataFrame(data_imputed_array, columns=data_encoded.columns)\n",
    "\n",
    "# Reverse one-hot encoding to get categorical features back\n",
    "categorical_features = ['HomePlanet', 'Deck', 'Side', 'Destination', 'VIP']\n",
    "for feature in categorical_features:\n",
    "    #Get a list of columns related to the feature\n",
    "    feature_cols = [col for col in data_imputed.columns if feature in col]\n",
    "\n",
    "    #Find the column with the maximum value for each row and extract the category name\n",
    "    data_imputed[feature] = data_imputed[feature_cols].idxmax(axis=1).str.replace(f'{feature}_', '')\n",
    "\n",
    "    #Remove the one-hot encoded columns for the current feature\n",
    "    data_imputed = data_imputed.drop(feature_cols, axis=1)\n",
    "\n",
    "# Update the original DataFrame with imputed values\n",
    "for feature in features:\n",
    "    data_updated[feature] = data_imputed[feature]\n",
    "\n",
    "print(data_updated.isnull().sum())"
   ]
  },
  {
   "cell_type": "code",
   "execution_count": 25,
   "id": "d237b0d5",
   "metadata": {
    "id": "X7ZwNSjA62dF"
   },
   "outputs": [],
   "source": [
    "data_updated = data_updated[['PassengerId', 'HomePlanet', 'CryoSleep', 'Deck', 'Num', 'Side', 'Destination', 'Age', 'VIP', 'Total Expenses','Transported']]"
   ]
  },
  {
   "cell_type": "code",
   "execution_count": 26,
   "id": "cea0e5f0",
   "metadata": {
    "colab": {
     "base_uri": "https://localhost:8080/",
     "height": 204
    },
    "id": "jrnfLJRH65zE",
    "outputId": "0da9f2a6-caf8-49c8-c7b8-43c60a213e8e",
    "scrolled": true
   },
   "outputs": [
    {
     "data": {
      "text/html": [
       "<div>\n",
       "<style scoped>\n",
       "    .dataframe tbody tr th:only-of-type {\n",
       "        vertical-align: middle;\n",
       "    }\n",
       "\n",
       "    .dataframe tbody tr th {\n",
       "        vertical-align: top;\n",
       "    }\n",
       "\n",
       "    .dataframe thead th {\n",
       "        text-align: right;\n",
       "    }\n",
       "</style>\n",
       "<table border=\"1\" class=\"dataframe\">\n",
       "  <thead>\n",
       "    <tr style=\"text-align: right;\">\n",
       "      <th></th>\n",
       "      <th>PassengerId</th>\n",
       "      <th>HomePlanet</th>\n",
       "      <th>CryoSleep</th>\n",
       "      <th>Deck</th>\n",
       "      <th>Num</th>\n",
       "      <th>Side</th>\n",
       "      <th>Destination</th>\n",
       "      <th>Age</th>\n",
       "      <th>VIP</th>\n",
       "      <th>Total Expenses</th>\n",
       "      <th>Transported</th>\n",
       "    </tr>\n",
       "  </thead>\n",
       "  <tbody>\n",
       "    <tr>\n",
       "      <th>0</th>\n",
       "      <td>0001_01</td>\n",
       "      <td>Europa</td>\n",
       "      <td>False</td>\n",
       "      <td>B</td>\n",
       "      <td>0.0</td>\n",
       "      <td>P</td>\n",
       "      <td>TRAPPIST-1e</td>\n",
       "      <td>39.0</td>\n",
       "      <td>False</td>\n",
       "      <td>0.0</td>\n",
       "      <td>False</td>\n",
       "    </tr>\n",
       "    <tr>\n",
       "      <th>1</th>\n",
       "      <td>0002_01</td>\n",
       "      <td>Earth</td>\n",
       "      <td>False</td>\n",
       "      <td>F</td>\n",
       "      <td>0.0</td>\n",
       "      <td>S</td>\n",
       "      <td>TRAPPIST-1e</td>\n",
       "      <td>24.0</td>\n",
       "      <td>False</td>\n",
       "      <td>692.0</td>\n",
       "      <td>True</td>\n",
       "    </tr>\n",
       "    <tr>\n",
       "      <th>2</th>\n",
       "      <td>0003_01</td>\n",
       "      <td>Europa</td>\n",
       "      <td>False</td>\n",
       "      <td>A</td>\n",
       "      <td>0.0</td>\n",
       "      <td>S</td>\n",
       "      <td>TRAPPIST-1e</td>\n",
       "      <td>58.0</td>\n",
       "      <td>True</td>\n",
       "      <td>10334.0</td>\n",
       "      <td>False</td>\n",
       "    </tr>\n",
       "    <tr>\n",
       "      <th>3</th>\n",
       "      <td>0003_02</td>\n",
       "      <td>Europa</td>\n",
       "      <td>False</td>\n",
       "      <td>A</td>\n",
       "      <td>0.0</td>\n",
       "      <td>S</td>\n",
       "      <td>TRAPPIST-1e</td>\n",
       "      <td>33.0</td>\n",
       "      <td>False</td>\n",
       "      <td>4983.0</td>\n",
       "      <td>False</td>\n",
       "    </tr>\n",
       "    <tr>\n",
       "      <th>4</th>\n",
       "      <td>0004_01</td>\n",
       "      <td>Earth</td>\n",
       "      <td>False</td>\n",
       "      <td>F</td>\n",
       "      <td>1.0</td>\n",
       "      <td>S</td>\n",
       "      <td>TRAPPIST-1e</td>\n",
       "      <td>16.0</td>\n",
       "      <td>False</td>\n",
       "      <td>1089.0</td>\n",
       "      <td>True</td>\n",
       "    </tr>\n",
       "  </tbody>\n",
       "</table>\n",
       "</div>"
      ],
      "text/plain": [
       "  PassengerId HomePlanet CryoSleep Deck  Num Side  Destination   Age    VIP  \\\n",
       "0     0001_01     Europa     False    B  0.0    P  TRAPPIST-1e  39.0  False   \n",
       "1     0002_01      Earth     False    F  0.0    S  TRAPPIST-1e  24.0  False   \n",
       "2     0003_01     Europa     False    A  0.0    S  TRAPPIST-1e  58.0   True   \n",
       "3     0003_02     Europa     False    A  0.0    S  TRAPPIST-1e  33.0  False   \n",
       "4     0004_01      Earth     False    F  1.0    S  TRAPPIST-1e  16.0  False   \n",
       "\n",
       "   Total Expenses  Transported  \n",
       "0             0.0        False  \n",
       "1           692.0         True  \n",
       "2         10334.0        False  \n",
       "3          4983.0        False  \n",
       "4          1089.0         True  "
      ]
     },
     "execution_count": 26,
     "metadata": {},
     "output_type": "execute_result"
    }
   ],
   "source": [
    "data_updated.head()"
   ]
  },
  {
   "cell_type": "code",
   "execution_count": 28,
   "id": "ef30ccc1",
   "metadata": {},
   "outputs": [
    {
     "data": {
      "text/html": [
       "<div>\n",
       "<style scoped>\n",
       "    .dataframe tbody tr th:only-of-type {\n",
       "        vertical-align: middle;\n",
       "    }\n",
       "\n",
       "    .dataframe tbody tr th {\n",
       "        vertical-align: top;\n",
       "    }\n",
       "\n",
       "    .dataframe thead th {\n",
       "        text-align: right;\n",
       "    }\n",
       "</style>\n",
       "<table border=\"1\" class=\"dataframe\">\n",
       "  <thead>\n",
       "    <tr style=\"text-align: right;\">\n",
       "      <th></th>\n",
       "      <th>PassengerId</th>\n",
       "      <th>HomePlanet</th>\n",
       "      <th>CryoSleep</th>\n",
       "      <th>Deck</th>\n",
       "      <th>Num</th>\n",
       "      <th>Side</th>\n",
       "      <th>Destination</th>\n",
       "      <th>Age</th>\n",
       "      <th>VIP</th>\n",
       "      <th>Total Expenses</th>\n",
       "      <th>Transported</th>\n",
       "    </tr>\n",
       "  </thead>\n",
       "  <tbody>\n",
       "    <tr>\n",
       "      <th>0</th>\n",
       "      <td>0001_01</td>\n",
       "      <td>Europa</td>\n",
       "      <td>False</td>\n",
       "      <td>B</td>\n",
       "      <td>0.0</td>\n",
       "      <td>P</td>\n",
       "      <td>TRAPPIST-1e</td>\n",
       "      <td>39.0</td>\n",
       "      <td>False</td>\n",
       "      <td>0.0</td>\n",
       "      <td>False</td>\n",
       "    </tr>\n",
       "    <tr>\n",
       "      <th>1</th>\n",
       "      <td>0002_01</td>\n",
       "      <td>Earth</td>\n",
       "      <td>False</td>\n",
       "      <td>F</td>\n",
       "      <td>0.0</td>\n",
       "      <td>S</td>\n",
       "      <td>TRAPPIST-1e</td>\n",
       "      <td>24.0</td>\n",
       "      <td>False</td>\n",
       "      <td>692.0</td>\n",
       "      <td>True</td>\n",
       "    </tr>\n",
       "    <tr>\n",
       "      <th>2</th>\n",
       "      <td>0003_01</td>\n",
       "      <td>Europa</td>\n",
       "      <td>False</td>\n",
       "      <td>A</td>\n",
       "      <td>0.0</td>\n",
       "      <td>S</td>\n",
       "      <td>TRAPPIST-1e</td>\n",
       "      <td>58.0</td>\n",
       "      <td>True</td>\n",
       "      <td>10334.0</td>\n",
       "      <td>False</td>\n",
       "    </tr>\n",
       "    <tr>\n",
       "      <th>3</th>\n",
       "      <td>0003_02</td>\n",
       "      <td>Europa</td>\n",
       "      <td>False</td>\n",
       "      <td>A</td>\n",
       "      <td>0.0</td>\n",
       "      <td>S</td>\n",
       "      <td>TRAPPIST-1e</td>\n",
       "      <td>33.0</td>\n",
       "      <td>False</td>\n",
       "      <td>4983.0</td>\n",
       "      <td>False</td>\n",
       "    </tr>\n",
       "    <tr>\n",
       "      <th>4</th>\n",
       "      <td>0004_01</td>\n",
       "      <td>Earth</td>\n",
       "      <td>False</td>\n",
       "      <td>F</td>\n",
       "      <td>1.0</td>\n",
       "      <td>S</td>\n",
       "      <td>TRAPPIST-1e</td>\n",
       "      <td>16.0</td>\n",
       "      <td>False</td>\n",
       "      <td>1089.0</td>\n",
       "      <td>True</td>\n",
       "    </tr>\n",
       "    <tr>\n",
       "      <th>...</th>\n",
       "      <td>...</td>\n",
       "      <td>...</td>\n",
       "      <td>...</td>\n",
       "      <td>...</td>\n",
       "      <td>...</td>\n",
       "      <td>...</td>\n",
       "      <td>...</td>\n",
       "      <td>...</td>\n",
       "      <td>...</td>\n",
       "      <td>...</td>\n",
       "      <td>...</td>\n",
       "    </tr>\n",
       "    <tr>\n",
       "      <th>8688</th>\n",
       "      <td>9276_01</td>\n",
       "      <td>Europa</td>\n",
       "      <td>False</td>\n",
       "      <td>A</td>\n",
       "      <td>98.0</td>\n",
       "      <td>P</td>\n",
       "      <td>55 Cancri e</td>\n",
       "      <td>41.0</td>\n",
       "      <td>True</td>\n",
       "      <td>8462.0</td>\n",
       "      <td>False</td>\n",
       "    </tr>\n",
       "    <tr>\n",
       "      <th>8689</th>\n",
       "      <td>9278_01</td>\n",
       "      <td>Earth</td>\n",
       "      <td>True</td>\n",
       "      <td>G</td>\n",
       "      <td>1499.0</td>\n",
       "      <td>S</td>\n",
       "      <td>PSO J318.5-22</td>\n",
       "      <td>18.0</td>\n",
       "      <td>False</td>\n",
       "      <td>0.0</td>\n",
       "      <td>False</td>\n",
       "    </tr>\n",
       "    <tr>\n",
       "      <th>8690</th>\n",
       "      <td>9279_01</td>\n",
       "      <td>Earth</td>\n",
       "      <td>False</td>\n",
       "      <td>G</td>\n",
       "      <td>1500.0</td>\n",
       "      <td>S</td>\n",
       "      <td>TRAPPIST-1e</td>\n",
       "      <td>26.0</td>\n",
       "      <td>False</td>\n",
       "      <td>1873.0</td>\n",
       "      <td>True</td>\n",
       "    </tr>\n",
       "    <tr>\n",
       "      <th>8691</th>\n",
       "      <td>9280_01</td>\n",
       "      <td>Europa</td>\n",
       "      <td>False</td>\n",
       "      <td>E</td>\n",
       "      <td>608.0</td>\n",
       "      <td>S</td>\n",
       "      <td>55 Cancri e</td>\n",
       "      <td>32.0</td>\n",
       "      <td>False</td>\n",
       "      <td>1402.0</td>\n",
       "      <td>False</td>\n",
       "    </tr>\n",
       "    <tr>\n",
       "      <th>8692</th>\n",
       "      <td>9280_02</td>\n",
       "      <td>Europa</td>\n",
       "      <td>False</td>\n",
       "      <td>E</td>\n",
       "      <td>608.0</td>\n",
       "      <td>S</td>\n",
       "      <td>TRAPPIST-1e</td>\n",
       "      <td>44.0</td>\n",
       "      <td>False</td>\n",
       "      <td>4814.0</td>\n",
       "      <td>True</td>\n",
       "    </tr>\n",
       "  </tbody>\n",
       "</table>\n",
       "<p>8693 rows × 11 columns</p>\n",
       "</div>"
      ],
      "text/plain": [
       "     PassengerId HomePlanet CryoSleep Deck     Num Side    Destination   Age  \\\n",
       "0        0001_01     Europa     False    B     0.0    P    TRAPPIST-1e  39.0   \n",
       "1        0002_01      Earth     False    F     0.0    S    TRAPPIST-1e  24.0   \n",
       "2        0003_01     Europa     False    A     0.0    S    TRAPPIST-1e  58.0   \n",
       "3        0003_02     Europa     False    A     0.0    S    TRAPPIST-1e  33.0   \n",
       "4        0004_01      Earth     False    F     1.0    S    TRAPPIST-1e  16.0   \n",
       "...          ...        ...       ...  ...     ...  ...            ...   ...   \n",
       "8688     9276_01     Europa     False    A    98.0    P    55 Cancri e  41.0   \n",
       "8689     9278_01      Earth      True    G  1499.0    S  PSO J318.5-22  18.0   \n",
       "8690     9279_01      Earth     False    G  1500.0    S    TRAPPIST-1e  26.0   \n",
       "8691     9280_01     Europa     False    E   608.0    S    55 Cancri e  32.0   \n",
       "8692     9280_02     Europa     False    E   608.0    S    TRAPPIST-1e  44.0   \n",
       "\n",
       "        VIP  Total Expenses  Transported  \n",
       "0     False             0.0        False  \n",
       "1     False           692.0         True  \n",
       "2      True         10334.0        False  \n",
       "3     False          4983.0        False  \n",
       "4     False          1089.0         True  \n",
       "...     ...             ...          ...  \n",
       "8688   True          8462.0        False  \n",
       "8689  False             0.0        False  \n",
       "8690  False          1873.0         True  \n",
       "8691  False          1402.0        False  \n",
       "8692  False          4814.0         True  \n",
       "\n",
       "[8693 rows x 11 columns]"
      ]
     },
     "execution_count": 28,
     "metadata": {},
     "output_type": "execute_result"
    }
   ],
   "source": [
    "data_updated"
   ]
  },
  {
   "cell_type": "code",
   "execution_count": 29,
   "id": "b57bf49a",
   "metadata": {},
   "outputs": [],
   "source": [
    "# Target Encoding: This enconding is used when the relationship between \n",
    "#categories and the target variable is considerable and cannot be ignored.\n",
    "import category_encoders as ce\n",
    "\n",
    "# Used target encoding on the columns HomePlanet, Destination, Deck, CryoSleep, Side\n",
    "target_encoder = ce.TargetEncoder(cols=['HomePlanet', 'Destination', 'Deck', 'CryoSleep', 'Side'])"
   ]
  },
  {
   "cell_type": "code",
   "execution_count": 30,
   "id": "c2268712",
   "metadata": {},
   "outputs": [],
   "source": [
    "# Transforming the encoded columns as per the target column\n",
    "data_encoded = target_encoder.fit_transform(data_updated[['HomePlanet', 'Destination', 'Deck', 'CryoSleep', 'Side']], data_updated['Transported'])"
   ]
  },
  {
   "cell_type": "code",
   "execution_count": 31,
   "id": "39f8b561",
   "metadata": {},
   "outputs": [
    {
     "name": "stdout",
     "output_type": "stream",
     "text": [
      "      HomePlanet  Destination      Deck  CryoSleep      Side\n",
      "0       0.660055     0.471175  0.734275   0.328176  0.453575\n",
      "1       0.424588     0.471175  0.439871   0.328176  0.555037\n",
      "2       0.660055     0.471175  0.498901   0.328176  0.555037\n",
      "3       0.660055     0.471175  0.498901   0.328176  0.555037\n",
      "4       0.424588     0.471175  0.439871   0.328176  0.555037\n",
      "...          ...          ...       ...        ...       ...\n",
      "8688    0.660055     0.600404  0.498901   0.328176  0.453575\n",
      "8689    0.424588     0.503769  0.516217   0.814673  0.555037\n",
      "8690    0.424588     0.471175  0.516217   0.328176  0.555037\n",
      "8691    0.660055     0.600404  0.357306   0.328176  0.555037\n",
      "8692    0.660055     0.471175  0.357306   0.328176  0.555037\n",
      "\n",
      "[8693 rows x 5 columns]\n"
     ]
    }
   ],
   "source": [
    "print(data_encoded)"
   ]
  },
  {
   "cell_type": "code",
   "execution_count": 32,
   "id": "12280b5e",
   "metadata": {},
   "outputs": [],
   "source": [
    "# Replacing the encoded values of the respective columns in the original dataset\n",
    "data_updated['HomePlanet'] = data_encoded['HomePlanet']\n",
    "data_updated['Destination'] = data_encoded['Destination']\n",
    "data_updated['Deck'] = data_encoded['Deck']\n",
    "data_updated['CryoSleep'] = data_encoded['CryoSleep']\n",
    "data_updated['Side'] = data_encoded['Side']"
   ]
  },
  {
   "cell_type": "code",
   "execution_count": 33,
   "id": "1d04b54e",
   "metadata": {},
   "outputs": [
    {
     "name": "stdout",
     "output_type": "stream",
     "text": [
      "     PassengerId  HomePlanet  CryoSleep      Deck     Num      Side  \\\n",
      "0        0001_01    0.660055   0.328176  0.734275     0.0  0.453575   \n",
      "1        0002_01    0.424588   0.328176  0.439871     0.0  0.555037   \n",
      "2        0003_01    0.660055   0.328176  0.498901     0.0  0.555037   \n",
      "3        0003_02    0.660055   0.328176  0.498901     0.0  0.555037   \n",
      "4        0004_01    0.424588   0.328176  0.439871     1.0  0.555037   \n",
      "...          ...         ...        ...       ...     ...       ...   \n",
      "8688     9276_01    0.660055   0.328176  0.498901    98.0  0.453575   \n",
      "8689     9278_01    0.424588   0.814673  0.516217  1499.0  0.555037   \n",
      "8690     9279_01    0.424588   0.328176  0.516217  1500.0  0.555037   \n",
      "8691     9280_01    0.660055   0.328176  0.357306   608.0  0.555037   \n",
      "8692     9280_02    0.660055   0.328176  0.357306   608.0  0.555037   \n",
      "\n",
      "      Destination   Age    VIP  Total Expenses  Transported  \n",
      "0        0.471175  39.0  False             0.0        False  \n",
      "1        0.471175  24.0  False           692.0         True  \n",
      "2        0.471175  58.0   True         10334.0        False  \n",
      "3        0.471175  33.0  False          4983.0        False  \n",
      "4        0.471175  16.0  False          1089.0         True  \n",
      "...           ...   ...    ...             ...          ...  \n",
      "8688     0.600404  41.0   True          8462.0        False  \n",
      "8689     0.503769  18.0  False             0.0        False  \n",
      "8690     0.471175  26.0  False          1873.0         True  \n",
      "8691     0.600404  32.0  False          1402.0        False  \n",
      "8692     0.471175  44.0  False          4814.0         True  \n",
      "\n",
      "[8693 rows x 11 columns]\n"
     ]
    }
   ],
   "source": [
    "print(data_updated)"
   ]
  },
  {
   "cell_type": "code",
   "execution_count": 34,
   "id": "7045d460",
   "metadata": {},
   "outputs": [
    {
     "name": "stdout",
     "output_type": "stream",
     "text": [
      "object\n"
     ]
    }
   ],
   "source": [
    "print(data_updated['VIP'].dtype)"
   ]
  },
  {
   "cell_type": "code",
   "execution_count": 35,
   "id": "6b41d152",
   "metadata": {},
   "outputs": [
    {
     "name": "stdout",
     "output_type": "stream",
     "text": [
      "     PassengerId  HomePlanet  CryoSleep      Deck     Num      Side  \\\n",
      "0        0001_01    0.660055   0.328176  0.734275     0.0  0.453575   \n",
      "1        0002_01    0.424588   0.328176  0.439871     0.0  0.555037   \n",
      "2        0003_01    0.660055   0.328176  0.498901     0.0  0.555037   \n",
      "3        0003_02    0.660055   0.328176  0.498901     0.0  0.555037   \n",
      "4        0004_01    0.424588   0.328176  0.439871     1.0  0.555037   \n",
      "...          ...         ...        ...       ...     ...       ...   \n",
      "8688     9276_01    0.660055   0.328176  0.498901    98.0  0.453575   \n",
      "8689     9278_01    0.424588   0.814673  0.516217  1499.0  0.555037   \n",
      "8690     9279_01    0.424588   0.328176  0.516217  1500.0  0.555037   \n",
      "8691     9280_01    0.660055   0.328176  0.357306   608.0  0.555037   \n",
      "8692     9280_02    0.660055   0.328176  0.357306   608.0  0.555037   \n",
      "\n",
      "      Destination   Age  VIP  Total Expenses  Transported  \n",
      "0        0.471175  39.0    0             0.0        False  \n",
      "1        0.471175  24.0    0           692.0         True  \n",
      "2        0.471175  58.0    1         10334.0        False  \n",
      "3        0.471175  33.0    0          4983.0        False  \n",
      "4        0.471175  16.0    0          1089.0         True  \n",
      "...           ...   ...  ...             ...          ...  \n",
      "8688     0.600404  41.0    1          8462.0        False  \n",
      "8689     0.503769  18.0    0             0.0        False  \n",
      "8690     0.471175  26.0    0          1873.0         True  \n",
      "8691     0.600404  32.0    0          1402.0        False  \n",
      "8692     0.471175  44.0    0          4814.0         True  \n",
      "\n",
      "[8693 rows x 11 columns]\n"
     ]
    }
   ],
   "source": [
    "# For the column VIP, replaced the False value with 0 and True value with 1\n",
    "data_updated['VIP'] = data_updated['VIP'].replace({'True': 1, 'False': 0})\n",
    "print(data_updated)"
   ]
  },
  {
   "cell_type": "code",
   "execution_count": 36,
   "id": "960bbad4",
   "metadata": {},
   "outputs": [],
   "source": [
    "# Splitting and storing the taget column and the sample columns\n",
    "X = data_updated[['PassengerId','HomePlanet','CryoSleep','Deck','Num','Side','Destination','Age','VIP','Total Expenses']]\n",
    "y = data_updated[['Transported']]"
   ]
  },
  {
   "cell_type": "code",
   "execution_count": 37,
   "id": "0bcd43ad",
   "metadata": {},
   "outputs": [
    {
     "name": "stdout",
     "output_type": "stream",
     "text": [
      "     PassengerId  HomePlanet  CryoSleep      Deck     Num      Side  \\\n",
      "0        0001_01    0.660055   0.328176  0.734275     0.0  0.453575   \n",
      "1        0002_01    0.424588   0.328176  0.439871     0.0  0.555037   \n",
      "2        0003_01    0.660055   0.328176  0.498901     0.0  0.555037   \n",
      "3        0003_02    0.660055   0.328176  0.498901     0.0  0.555037   \n",
      "4        0004_01    0.424588   0.328176  0.439871     1.0  0.555037   \n",
      "...          ...         ...        ...       ...     ...       ...   \n",
      "8688     9276_01    0.660055   0.328176  0.498901    98.0  0.453575   \n",
      "8689     9278_01    0.424588   0.814673  0.516217  1499.0  0.555037   \n",
      "8690     9279_01    0.424588   0.328176  0.516217  1500.0  0.555037   \n",
      "8691     9280_01    0.660055   0.328176  0.357306   608.0  0.555037   \n",
      "8692     9280_02    0.660055   0.328176  0.357306   608.0  0.555037   \n",
      "\n",
      "      Destination   Age  VIP  Total Expenses  \n",
      "0        0.471175  39.0    0             0.0  \n",
      "1        0.471175  24.0    0           692.0  \n",
      "2        0.471175  58.0    1         10334.0  \n",
      "3        0.471175  33.0    0          4983.0  \n",
      "4        0.471175  16.0    0          1089.0  \n",
      "...           ...   ...  ...             ...  \n",
      "8688     0.600404  41.0    1          8462.0  \n",
      "8689     0.503769  18.0    0             0.0  \n",
      "8690     0.471175  26.0    0          1873.0  \n",
      "8691     0.600404  32.0    0          1402.0  \n",
      "8692     0.471175  44.0    0          4814.0  \n",
      "\n",
      "[8693 rows x 10 columns]\n"
     ]
    }
   ],
   "source": [
    "print(X)"
   ]
  },
  {
   "cell_type": "code",
   "execution_count": 38,
   "id": "067dc2c2",
   "metadata": {},
   "outputs": [
    {
     "name": "stdout",
     "output_type": "stream",
     "text": [
      "      Transported\n",
      "0           False\n",
      "1            True\n",
      "2           False\n",
      "3           False\n",
      "4            True\n",
      "...           ...\n",
      "8688        False\n",
      "8689        False\n",
      "8690         True\n",
      "8691        False\n",
      "8692         True\n",
      "\n",
      "[8693 rows x 1 columns]\n"
     ]
    }
   ],
   "source": [
    "print(y)"
   ]
  },
  {
   "cell_type": "code",
   "execution_count": 39,
   "id": "a328753e",
   "metadata": {},
   "outputs": [],
   "source": [
    "# Splitting the training and validation set in 80:20 ratio\n",
    "X_train, X_test , y_train, y_test = train_test_split(X, y, test_size = 0.2)"
   ]
  },
  {
   "cell_type": "code",
   "execution_count": 40,
   "id": "c20d8941",
   "metadata": {
    "scrolled": false
   },
   "outputs": [
    {
     "name": "stdout",
     "output_type": "stream",
     "text": [
      "     PassengerId  HomePlanet  CryoSleep      Deck     Num      Side  \\\n",
      "8563     9144_01    0.424588   0.328176  0.439871  1768.0  0.555037   \n",
      "5649     6006_02    0.660055   0.814673  0.433054   190.0  0.453575   \n",
      "7782     8307_02    0.660055   0.814673  0.498901   100.0  0.555037   \n",
      "2767     2982_01    0.660055   0.814673  0.734275   111.0  0.555037   \n",
      "7278     7783_01    0.523171   0.814673  0.439871  1487.0  0.555037   \n",
      "...          ...         ...        ...       ...     ...       ...   \n",
      "2105     2257_01    0.660055   0.328176  0.680054    76.0  0.453575   \n",
      "4091     4367_01    0.424588   0.814673  0.516217   710.0  0.555037   \n",
      "3231     3475_03    0.660055   0.328176  0.680054   126.0  0.555037   \n",
      "1330     1407_02    0.424588   0.328176  0.439871   278.0  0.453575   \n",
      "4086     4361_01    0.424588   0.328176  0.439871   819.0  0.555037   \n",
      "\n",
      "      Destination   Age  VIP  Total Expenses  \n",
      "8563     0.471175  22.0    0           703.0  \n",
      "5649     0.600404  26.0    0             0.0  \n",
      "7782     0.471175  34.0    0             0.0  \n",
      "2767     0.600404  33.0    0             0.0  \n",
      "7278     0.471175  18.0    0             0.0  \n",
      "...           ...   ...  ...             ...  \n",
      "2105     0.471175  27.0    1          3421.0  \n",
      "4091     0.600404  37.0    0             0.0  \n",
      "3231     0.600404  49.0    0          8930.0  \n",
      "1330     0.503769  17.0    0           634.0  \n",
      "4086     0.600404  27.0    0           748.0  \n",
      "\n",
      "[6954 rows x 10 columns]\n"
     ]
    }
   ],
   "source": [
    "print(X_train)"
   ]
  },
  {
   "cell_type": "code",
   "execution_count": 41,
   "id": "1601c578",
   "metadata": {
    "scrolled": false
   },
   "outputs": [
    {
     "name": "stdout",
     "output_type": "stream",
     "text": [
      "      Transported\n",
      "8563        False\n",
      "5649         True\n",
      "7782         True\n",
      "2767         True\n",
      "7278         True\n",
      "...           ...\n",
      "2105         True\n",
      "4091         True\n",
      "3231         True\n",
      "1330         True\n",
      "4086         True\n",
      "\n",
      "[6954 rows x 1 columns]\n"
     ]
    }
   ],
   "source": [
    "print(y_train)"
   ]
  },
  {
   "cell_type": "code",
   "execution_count": 42,
   "id": "20443d3d",
   "metadata": {},
   "outputs": [
    {
     "name": "stdout",
     "output_type": "stream",
     "text": [
      "     PassengerId  HomePlanet  CryoSleep      Deck     Num      Side  \\\n",
      "1923     2056_03    0.424588   0.328176  0.439871   407.0  0.453575   \n",
      "1388     1455_03    0.660055   0.814673  0.734275    62.0  0.555037   \n",
      "4774     5091_01    0.424588   0.328176  0.439871   973.0  0.555037   \n",
      "2005     2140_01    0.424588   0.328176  0.439871   424.0  0.453575   \n",
      "4364     4645_02    0.660055   0.814673  0.734275   184.0  0.555037   \n",
      "...          ...         ...        ...       ...     ...       ...   \n",
      "8671     9253_01    0.424588   0.814673  0.516217  1493.0  0.555037   \n",
      "6179     6525_02    0.424588   0.814673  0.516217  1061.0  0.555037   \n",
      "163      0188_01    0.424588   0.814673  0.516217    31.0  0.555037   \n",
      "7485     8007_02    0.424588   0.328176  0.357306   517.0  0.453575   \n",
      "5262     5614_01    0.424588   0.814673  0.516217   906.0  0.555037   \n",
      "\n",
      "      Destination   Age  VIP  Total Expenses  \n",
      "1923     0.471175  68.0    0          2025.0  \n",
      "1388     0.600404  22.0    0             0.0  \n",
      "4774     0.600404  18.0    0          2734.0  \n",
      "2005     0.471175  18.0    0           698.0  \n",
      "4364     0.471175  31.4    0             0.0  \n",
      "...           ...   ...  ...             ...  \n",
      "8671     0.503769  16.0    0             0.0  \n",
      "6179     0.503769  32.0    0             0.0  \n",
      "163      0.471175  56.0    0             0.0  \n",
      "7485     0.503769  24.0    0          1584.0  \n",
      "5262     0.600404  49.0    0             0.0  \n",
      "\n",
      "[1739 rows x 10 columns]\n"
     ]
    }
   ],
   "source": [
    "print(X_test)"
   ]
  },
  {
   "cell_type": "code",
   "execution_count": 43,
   "id": "355b4261",
   "metadata": {},
   "outputs": [
    {
     "name": "stdout",
     "output_type": "stream",
     "text": [
      "      Transported\n",
      "1923        False\n",
      "1388         True\n",
      "4774        False\n",
      "2005         True\n",
      "4364         True\n",
      "...           ...\n",
      "8671         True\n",
      "6179         True\n",
      "163          True\n",
      "7485         True\n",
      "5262         True\n",
      "\n",
      "[1739 rows x 1 columns]\n"
     ]
    }
   ],
   "source": [
    "print(y_test)"
   ]
  },
  {
   "cell_type": "code",
   "execution_count": 44,
   "id": "2105126a",
   "metadata": {},
   "outputs": [
    {
     "name": "stderr",
     "output_type": "stream",
     "text": [
      "C:\\Users\\bhatt\\anaconda3\\lib\\site-packages\\sklearn\\utils\\validation.py:993: DataConversionWarning: A column-vector y was passed when a 1d array was expected. Please change the shape of y to (n_samples, ), for example using ravel().\n",
      "  y = column_or_1d(y, warn=True)\n"
     ]
    },
    {
     "data": {
      "text/plain": [
       "LogisticRegression()"
      ]
     },
     "execution_count": 44,
     "metadata": {},
     "output_type": "execute_result"
    }
   ],
   "source": [
    "# Initializing the Logisitc Regression Model\n",
    "model = LogisticRegression()\n",
    "model.fit(X_train, y_train)"
   ]
  },
  {
   "cell_type": "code",
   "execution_count": 45,
   "id": "b2745c0b",
   "metadata": {},
   "outputs": [],
   "source": [
    "y_pred = model.predict(X_test)"
   ]
  },
  {
   "cell_type": "code",
   "execution_count": 46,
   "id": "8c296a06",
   "metadata": {},
   "outputs": [],
   "source": [
    "accuracy = accuracy_score(y_test, y_pred)\n",
    "conf_matrix = confusion_matrix(y_test, y_pred)\n",
    "class_report = classification_report(y_test, y_pred)"
   ]
  },
  {
   "cell_type": "code",
   "execution_count": 47,
   "id": "70490591",
   "metadata": {},
   "outputs": [
    {
     "name": "stdout",
     "output_type": "stream",
     "text": [
      "Accuracy : 0.5923\n",
      "Confusion Matrix :\n",
      "[[579 289]\n",
      " [420 451]]\n",
      "Classification Report :\n",
      "              precision    recall  f1-score   support\n",
      "\n",
      "       False       0.58      0.67      0.62       868\n",
      "        True       0.61      0.52      0.56       871\n",
      "\n",
      "    accuracy                           0.59      1739\n",
      "   macro avg       0.59      0.59      0.59      1739\n",
      "weighted avg       0.59      0.59      0.59      1739\n",
      "\n"
     ]
    }
   ],
   "source": [
    "print(f'Accuracy : {accuracy:.4f}')\n",
    "print('Confusion Matrix :')\n",
    "print(conf_matrix)\n",
    "print('Classification Report :')\n",
    "print(class_report)"
   ]
  },
  {
   "cell_type": "markdown",
   "id": "68582a0f",
   "metadata": {},
   "source": [
    "#### Using F1 score and AUC-ROC for model performance measure"
   ]
  },
  {
   "cell_type": "code",
   "execution_count": 48,
   "id": "1931761e",
   "metadata": {},
   "outputs": [],
   "source": [
    "from sklearn.metrics import f1_score, roc_auc_score, roc_curve"
   ]
  },
  {
   "cell_type": "code",
   "execution_count": 49,
   "id": "1a058c93",
   "metadata": {},
   "outputs": [
    {
     "name": "stdout",
     "output_type": "stream",
     "text": [
      "F1 Score: 0.5599\n"
     ]
    }
   ],
   "source": [
    "# Calculate F1 Score\n",
    "f1 = f1_score(y_test, y_pred)\n",
    "print(f'F1 Score: {f1:.4f}')"
   ]
  },
  {
   "cell_type": "code",
   "execution_count": 50,
   "id": "1e45340f",
   "metadata": {},
   "outputs": [
    {
     "name": "stdout",
     "output_type": "stream",
     "text": [
      "AUC-ROC: 0.6478\n"
     ]
    }
   ],
   "source": [
    "y_prob = model.predict_proba(X_test)[:, 1]\n",
    "\n",
    "# Calculate AUC-ROC\n",
    "roc_auc = roc_auc_score(y_test, y_prob)\n",
    "print(f'AUC-ROC: {roc_auc:.4f}')"
   ]
  },
  {
   "cell_type": "code",
   "execution_count": 51,
   "id": "2dff6010",
   "metadata": {},
   "outputs": [],
   "source": [
    "# Compute ROC curve\n",
    "fpr, tpr, thresholds = roc_curve(y_test, y_prob)"
   ]
  },
  {
   "cell_type": "code",
   "execution_count": 52,
   "id": "4bf0286e",
   "metadata": {},
   "outputs": [
    {
     "data": {
      "image/png": "[encoded data removed]",
      "text/plain": [
       "<Figure size 576x432 with 1 Axes>"
      ]
     },
     "metadata": {
      "needs_background": "light"
     },
     "output_type": "display_data"
    }
   ],
   "source": [
    "# Plotting the ROC curve\n",
    "plt.figure(figsize=(8, 6))\n",
    "plt.plot(fpr, tpr, color='green', label=f'ROC curve (AUC = {roc_auc:.2f})')\n",
    "plt.plot([0, 1], [0, 1], color='red', linestyle='--')  # Diagonal line\n",
    "plt.xlim([0.0, 1.0])\n",
    "plt.ylim([0.0, 1.0])\n",
    "plt.xlabel('False Positive Rate')\n",
    "plt.ylabel('True Positive Rate')\n",
    "plt.title('Receiver Operating Characteristic (ROC) Curve')\n",
    "plt.legend(loc='lower right')\n",
    "plt.grid()\n",
    "plt.show()"
   ]
  },
  {
   "cell_type": "code",
   "execution_count": null,
   "id": "bd6a57d8",
   "metadata": {},
   "outputs": [],
   "source": []
  }
 ],
 "metadata": {
  "kernelspec": {
   "display_name": "Python 3 (ipykernel)",
   "language": "python",
   "name": "python3"
  },
  "language_info": {
   "codemirror_mode": {
    "name": "ipython",
    "version": 3
   },
   "file_extension": ".py",
   "mimetype": "text/x-python",
   "name": "python",
   "nbconvert_exporter": "python",
   "pygments_lexer": "ipython3",
   "version": "3.9.12"
  }
 },
 "nbformat": 4,
 "nbformat_minor": 5
}
