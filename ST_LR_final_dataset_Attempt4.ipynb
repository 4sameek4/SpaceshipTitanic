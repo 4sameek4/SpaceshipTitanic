{
 "cells": [
  {
   "cell_type": "code",
   "execution_count": 1,
   "id": "6a82e590",
   "metadata": {},
   "outputs": [],
   "source": [
    "#Importing the required packages\n",
    "\n",
    "import pandas as pd\n",
    "import numpy as np\n",
    "import matplotlib.pyplot as plt\n",
    "import seaborn as sns\n",
    "from sklearn.impute import KNNImputer\n",
    "from sklearn.linear_model import LogisticRegression\n",
    "from sklearn.model_selection import train_test_split\n",
    "from sklearn.metrics import accuracy_score, confusion_matrix, classification_report"
   ]
  },
  {
   "cell_type": "code",
   "execution_count": 2,
   "id": "d77ab851",
   "metadata": {},
   "outputs": [
    {
     "data": {
      "text/html": [
       "<div>\n",
       "<style scoped>\n",
       "    .dataframe tbody tr th:only-of-type {\n",
       "        vertical-align: middle;\n",
       "    }\n",
       "\n",
       "    .dataframe tbody tr th {\n",
       "        vertical-align: top;\n",
       "    }\n",
       "\n",
       "    .dataframe thead th {\n",
       "        text-align: right;\n",
       "    }\n",
       "</style>\n",
       "<table border=\"1\" class=\"dataframe\">\n",
       "  <thead>\n",
       "    <tr style=\"text-align: right;\">\n",
       "      <th></th>\n",
       "      <th>PassengerId</th>\n",
       "      <th>HomePlanet</th>\n",
       "      <th>CryoSleep</th>\n",
       "      <th>Cabin</th>\n",
       "      <th>Destination</th>\n",
       "      <th>Age</th>\n",
       "      <th>VIP</th>\n",
       "      <th>RoomService</th>\n",
       "      <th>FoodCourt</th>\n",
       "      <th>ShoppingMall</th>\n",
       "      <th>Spa</th>\n",
       "      <th>VRDeck</th>\n",
       "      <th>Name</th>\n",
       "      <th>Transported</th>\n",
       "    </tr>\n",
       "  </thead>\n",
       "  <tbody>\n",
       "    <tr>\n",
       "      <th>0</th>\n",
       "      <td>0001_01</td>\n",
       "      <td>Europa</td>\n",
       "      <td>False</td>\n",
       "      <td>B/0/P</td>\n",
       "      <td>TRAPPIST-1e</td>\n",
       "      <td>39.0</td>\n",
       "      <td>False</td>\n",
       "      <td>0.0</td>\n",
       "      <td>0.0</td>\n",
       "      <td>0.0</td>\n",
       "      <td>0.0</td>\n",
       "      <td>0.0</td>\n",
       "      <td>Maham Ofracculy</td>\n",
       "      <td>False</td>\n",
       "    </tr>\n",
       "    <tr>\n",
       "      <th>1</th>\n",
       "      <td>0002_01</td>\n",
       "      <td>Earth</td>\n",
       "      <td>False</td>\n",
       "      <td>F/0/S</td>\n",
       "      <td>TRAPPIST-1e</td>\n",
       "      <td>24.0</td>\n",
       "      <td>False</td>\n",
       "      <td>109.0</td>\n",
       "      <td>9.0</td>\n",
       "      <td>25.0</td>\n",
       "      <td>549.0</td>\n",
       "      <td>44.0</td>\n",
       "      <td>Juanna Vines</td>\n",
       "      <td>True</td>\n",
       "    </tr>\n",
       "    <tr>\n",
       "      <th>2</th>\n",
       "      <td>0003_01</td>\n",
       "      <td>Europa</td>\n",
       "      <td>False</td>\n",
       "      <td>A/0/S</td>\n",
       "      <td>TRAPPIST-1e</td>\n",
       "      <td>58.0</td>\n",
       "      <td>True</td>\n",
       "      <td>43.0</td>\n",
       "      <td>3576.0</td>\n",
       "      <td>0.0</td>\n",
       "      <td>6715.0</td>\n",
       "      <td>49.0</td>\n",
       "      <td>Altark Susent</td>\n",
       "      <td>False</td>\n",
       "    </tr>\n",
       "    <tr>\n",
       "      <th>3</th>\n",
       "      <td>0003_02</td>\n",
       "      <td>Europa</td>\n",
       "      <td>False</td>\n",
       "      <td>A/0/S</td>\n",
       "      <td>TRAPPIST-1e</td>\n",
       "      <td>33.0</td>\n",
       "      <td>False</td>\n",
       "      <td>0.0</td>\n",
       "      <td>1283.0</td>\n",
       "      <td>371.0</td>\n",
       "      <td>3329.0</td>\n",
       "      <td>193.0</td>\n",
       "      <td>Solam Susent</td>\n",
       "      <td>False</td>\n",
       "    </tr>\n",
       "    <tr>\n",
       "      <th>4</th>\n",
       "      <td>0004_01</td>\n",
       "      <td>Earth</td>\n",
       "      <td>False</td>\n",
       "      <td>F/1/S</td>\n",
       "      <td>TRAPPIST-1e</td>\n",
       "      <td>16.0</td>\n",
       "      <td>False</td>\n",
       "      <td>303.0</td>\n",
       "      <td>70.0</td>\n",
       "      <td>151.0</td>\n",
       "      <td>565.0</td>\n",
       "      <td>2.0</td>\n",
       "      <td>Willy Santantines</td>\n",
       "      <td>True</td>\n",
       "    </tr>\n",
       "  </tbody>\n",
       "</table>\n",
       "</div>"
      ],
      "text/plain": [
       "  PassengerId HomePlanet CryoSleep  Cabin  Destination   Age    VIP  \\\n",
       "0     0001_01     Europa     False  B/0/P  TRAPPIST-1e  39.0  False   \n",
       "1     0002_01      Earth     False  F/0/S  TRAPPIST-1e  24.0  False   \n",
       "2     0003_01     Europa     False  A/0/S  TRAPPIST-1e  58.0   True   \n",
       "3     0003_02     Europa     False  A/0/S  TRAPPIST-1e  33.0  False   \n",
       "4     0004_01      Earth     False  F/1/S  TRAPPIST-1e  16.0  False   \n",
       "\n",
       "   RoomService  FoodCourt  ShoppingMall     Spa  VRDeck               Name  \\\n",
       "0          0.0        0.0           0.0     0.0     0.0    Maham Ofracculy   \n",
       "1        109.0        9.0          25.0   549.0    44.0       Juanna Vines   \n",
       "2         43.0     3576.0           0.0  6715.0    49.0      Altark Susent   \n",
       "3          0.0     1283.0         371.0  3329.0   193.0       Solam Susent   \n",
       "4        303.0       70.0         151.0   565.0     2.0  Willy Santantines   \n",
       "\n",
       "   Transported  \n",
       "0        False  \n",
       "1         True  \n",
       "2        False  \n",
       "3        False  \n",
       "4         True  "
      ]
     },
     "execution_count": 2,
     "metadata": {},
     "output_type": "execute_result"
    }
   ],
   "source": [
    "#Reading the overall train dataset\n",
    "data = pd.read_csv('C:/Users/bhatt/OneDrive/Desktop/Sameek/0. University of North Texas/UNT Masters Course/Semester 1 - Fall 2024/CSCE 5214 - Software Development for AI/Project 1/spaceship-titanic/train.csv')\n",
    "\n",
    "#Displaying the first 5 rows of the overall train dataset\n",
    "data.head()"
   ]
  },
  {
   "cell_type": "code",
   "execution_count": 3,
   "id": "36bd5af6",
   "metadata": {
    "colab": {
     "base_uri": "https://localhost:8080/",
     "height": 517
    },
    "id": "HL-_OuHkMsRh",
    "outputId": "b589e045-499e-4281-b8b5-3f87bd745cb8"
   },
   "outputs": [
    {
     "data": {
      "text/plain": [
       "PassengerId      object\n",
       "HomePlanet       object\n",
       "CryoSleep        object\n",
       "Cabin            object\n",
       "Destination      object\n",
       "Age             float64\n",
       "VIP              object\n",
       "RoomService     float64\n",
       "FoodCourt       float64\n",
       "ShoppingMall    float64\n",
       "Spa             float64\n",
       "VRDeck          float64\n",
       "Name             object\n",
       "Transported        bool\n",
       "dtype: object"
      ]
     },
     "execution_count": 3,
     "metadata": {},
     "output_type": "execute_result"
    }
   ],
   "source": [
    "#Getting the datatypes of the dataset\n",
    "data.dtypes"
   ]
  },
  {
   "cell_type": "code",
   "execution_count": 4,
   "id": "698a80cd",
   "metadata": {
    "colab": {
     "base_uri": "https://localhost:8080/",
     "height": 847
    },
    "id": "BED7VG-FNKRR",
    "outputId": "1a308773-e173-4ddd-9bed-ca7b9247307d"
   },
   "outputs": [
    {
     "name": "stderr",
     "output_type": "stream",
     "text": [
      "C:\\Users\\bhatt\\AppData\\Local\\Temp\\ipykernel_8568\\1442133126.py:4: SettingWithCopyWarning: \n",
      "A value is trying to be set on a copy of a slice from a DataFrame.\n",
      "Try using .loc[row_indexer,col_indexer] = value instead\n",
      "\n",
      "See the caveats in the documentation: https://pandas.pydata.org/pandas-docs/stable/user_guide/indexing.html#returning-a-view-versus-a-copy\n",
      "  data_TotalExpenses['Total Expenses'] = data_TotalExpenses.sum(axis=1)\n",
      "C:\\Users\\bhatt\\AppData\\Local\\Temp\\ipykernel_8568\\1442133126.py:12: SettingWithCopyWarning: \n",
      "A value is trying to be set on a copy of a slice from a DataFrame.\n",
      "Try using .loc[row_indexer,col_indexer] = value instead\n",
      "\n",
      "See the caveats in the documentation: https://pandas.pydata.org/pandas-docs/stable/user_guide/indexing.html#returning-a-view-versus-a-copy\n",
      "  data_updated[['Deck','Num', 'Side']] = data_updated['Cabin'].str.split('/', expand=True)\n",
      "C:\\Users\\bhatt\\AppData\\Local\\Temp\\ipykernel_8568\\1442133126.py:12: SettingWithCopyWarning: \n",
      "A value is trying to be set on a copy of a slice from a DataFrame.\n",
      "Try using .loc[row_indexer,col_indexer] = value instead\n",
      "\n",
      "See the caveats in the documentation: https://pandas.pydata.org/pandas-docs/stable/user_guide/indexing.html#returning-a-view-versus-a-copy\n",
      "  data_updated[['Deck','Num', 'Side']] = data_updated['Cabin'].str.split('/', expand=True)\n",
      "C:\\Users\\bhatt\\AppData\\Local\\Temp\\ipykernel_8568\\1442133126.py:12: SettingWithCopyWarning: \n",
      "A value is trying to be set on a copy of a slice from a DataFrame.\n",
      "Try using .loc[row_indexer,col_indexer] = value instead\n",
      "\n",
      "See the caveats in the documentation: https://pandas.pydata.org/pandas-docs/stable/user_guide/indexing.html#returning-a-view-versus-a-copy\n",
      "  data_updated[['Deck','Num', 'Side']] = data_updated['Cabin'].str.split('/', expand=True)\n"
     ]
    },
    {
     "data": {
      "text/html": [
       "<div>\n",
       "<style scoped>\n",
       "    .dataframe tbody tr th:only-of-type {\n",
       "        vertical-align: middle;\n",
       "    }\n",
       "\n",
       "    .dataframe tbody tr th {\n",
       "        vertical-align: top;\n",
       "    }\n",
       "\n",
       "    .dataframe thead th {\n",
       "        text-align: right;\n",
       "    }\n",
       "</style>\n",
       "<table border=\"1\" class=\"dataframe\">\n",
       "  <thead>\n",
       "    <tr style=\"text-align: right;\">\n",
       "      <th></th>\n",
       "      <th>PassengerId</th>\n",
       "      <th>HomePlanet</th>\n",
       "      <th>CryoSleep</th>\n",
       "      <th>Deck</th>\n",
       "      <th>Num</th>\n",
       "      <th>Side</th>\n",
       "      <th>Destination</th>\n",
       "      <th>Age</th>\n",
       "      <th>VIP</th>\n",
       "      <th>Total Expenses</th>\n",
       "      <th>Transported</th>\n",
       "    </tr>\n",
       "  </thead>\n",
       "  <tbody>\n",
       "    <tr>\n",
       "      <th>0</th>\n",
       "      <td>0001_01</td>\n",
       "      <td>Europa</td>\n",
       "      <td>False</td>\n",
       "      <td>B</td>\n",
       "      <td>0</td>\n",
       "      <td>P</td>\n",
       "      <td>TRAPPIST-1e</td>\n",
       "      <td>39.0</td>\n",
       "      <td>False</td>\n",
       "      <td>0.0</td>\n",
       "      <td>False</td>\n",
       "    </tr>\n",
       "    <tr>\n",
       "      <th>1</th>\n",
       "      <td>0002_01</td>\n",
       "      <td>Earth</td>\n",
       "      <td>False</td>\n",
       "      <td>F</td>\n",
       "      <td>0</td>\n",
       "      <td>S</td>\n",
       "      <td>TRAPPIST-1e</td>\n",
       "      <td>24.0</td>\n",
       "      <td>False</td>\n",
       "      <td>736.0</td>\n",
       "      <td>True</td>\n",
       "    </tr>\n",
       "    <tr>\n",
       "      <th>2</th>\n",
       "      <td>0003_01</td>\n",
       "      <td>Europa</td>\n",
       "      <td>False</td>\n",
       "      <td>A</td>\n",
       "      <td>0</td>\n",
       "      <td>S</td>\n",
       "      <td>TRAPPIST-1e</td>\n",
       "      <td>58.0</td>\n",
       "      <td>True</td>\n",
       "      <td>10383.0</td>\n",
       "      <td>False</td>\n",
       "    </tr>\n",
       "    <tr>\n",
       "      <th>3</th>\n",
       "      <td>0003_02</td>\n",
       "      <td>Europa</td>\n",
       "      <td>False</td>\n",
       "      <td>A</td>\n",
       "      <td>0</td>\n",
       "      <td>S</td>\n",
       "      <td>TRAPPIST-1e</td>\n",
       "      <td>33.0</td>\n",
       "      <td>False</td>\n",
       "      <td>5176.0</td>\n",
       "      <td>False</td>\n",
       "    </tr>\n",
       "    <tr>\n",
       "      <th>4</th>\n",
       "      <td>0004_01</td>\n",
       "      <td>Earth</td>\n",
       "      <td>False</td>\n",
       "      <td>F</td>\n",
       "      <td>1</td>\n",
       "      <td>S</td>\n",
       "      <td>TRAPPIST-1e</td>\n",
       "      <td>16.0</td>\n",
       "      <td>False</td>\n",
       "      <td>1091.0</td>\n",
       "      <td>True</td>\n",
       "    </tr>\n",
       "    <tr>\n",
       "      <th>...</th>\n",
       "      <td>...</td>\n",
       "      <td>...</td>\n",
       "      <td>...</td>\n",
       "      <td>...</td>\n",
       "      <td>...</td>\n",
       "      <td>...</td>\n",
       "      <td>...</td>\n",
       "      <td>...</td>\n",
       "      <td>...</td>\n",
       "      <td>...</td>\n",
       "      <td>...</td>\n",
       "    </tr>\n",
       "    <tr>\n",
       "      <th>8688</th>\n",
       "      <td>9276_01</td>\n",
       "      <td>Europa</td>\n",
       "      <td>False</td>\n",
       "      <td>A</td>\n",
       "      <td>98</td>\n",
       "      <td>P</td>\n",
       "      <td>55 Cancri e</td>\n",
       "      <td>41.0</td>\n",
       "      <td>True</td>\n",
       "      <td>8536.0</td>\n",
       "      <td>False</td>\n",
       "    </tr>\n",
       "    <tr>\n",
       "      <th>8689</th>\n",
       "      <td>9278_01</td>\n",
       "      <td>Earth</td>\n",
       "      <td>True</td>\n",
       "      <td>G</td>\n",
       "      <td>1499</td>\n",
       "      <td>S</td>\n",
       "      <td>PSO J318.5-22</td>\n",
       "      <td>18.0</td>\n",
       "      <td>False</td>\n",
       "      <td>0.0</td>\n",
       "      <td>False</td>\n",
       "    </tr>\n",
       "    <tr>\n",
       "      <th>8690</th>\n",
       "      <td>9279_01</td>\n",
       "      <td>Earth</td>\n",
       "      <td>False</td>\n",
       "      <td>G</td>\n",
       "      <td>1500</td>\n",
       "      <td>S</td>\n",
       "      <td>TRAPPIST-1e</td>\n",
       "      <td>26.0</td>\n",
       "      <td>False</td>\n",
       "      <td>1873.0</td>\n",
       "      <td>True</td>\n",
       "    </tr>\n",
       "    <tr>\n",
       "      <th>8691</th>\n",
       "      <td>9280_01</td>\n",
       "      <td>Europa</td>\n",
       "      <td>False</td>\n",
       "      <td>E</td>\n",
       "      <td>608</td>\n",
       "      <td>S</td>\n",
       "      <td>55 Cancri e</td>\n",
       "      <td>32.0</td>\n",
       "      <td>False</td>\n",
       "      <td>4637.0</td>\n",
       "      <td>False</td>\n",
       "    </tr>\n",
       "    <tr>\n",
       "      <th>8692</th>\n",
       "      <td>9280_02</td>\n",
       "      <td>Europa</td>\n",
       "      <td>False</td>\n",
       "      <td>E</td>\n",
       "      <td>608</td>\n",
       "      <td>S</td>\n",
       "      <td>TRAPPIST-1e</td>\n",
       "      <td>44.0</td>\n",
       "      <td>False</td>\n",
       "      <td>4826.0</td>\n",
       "      <td>True</td>\n",
       "    </tr>\n",
       "  </tbody>\n",
       "</table>\n",
       "<p>8693 rows × 11 columns</p>\n",
       "</div>"
      ],
      "text/plain": [
       "     PassengerId HomePlanet CryoSleep Deck   Num Side    Destination   Age  \\\n",
       "0        0001_01     Europa     False    B     0    P    TRAPPIST-1e  39.0   \n",
       "1        0002_01      Earth     False    F     0    S    TRAPPIST-1e  24.0   \n",
       "2        0003_01     Europa     False    A     0    S    TRAPPIST-1e  58.0   \n",
       "3        0003_02     Europa     False    A     0    S    TRAPPIST-1e  33.0   \n",
       "4        0004_01      Earth     False    F     1    S    TRAPPIST-1e  16.0   \n",
       "...          ...        ...       ...  ...   ...  ...            ...   ...   \n",
       "8688     9276_01     Europa     False    A    98    P    55 Cancri e  41.0   \n",
       "8689     9278_01      Earth      True    G  1499    S  PSO J318.5-22  18.0   \n",
       "8690     9279_01      Earth     False    G  1500    S    TRAPPIST-1e  26.0   \n",
       "8691     9280_01     Europa     False    E   608    S    55 Cancri e  32.0   \n",
       "8692     9280_02     Europa     False    E   608    S    TRAPPIST-1e  44.0   \n",
       "\n",
       "        VIP  Total Expenses  Transported  \n",
       "0     False             0.0        False  \n",
       "1     False           736.0         True  \n",
       "2      True         10383.0        False  \n",
       "3     False          5176.0        False  \n",
       "4     False          1091.0         True  \n",
       "...     ...             ...          ...  \n",
       "8688   True          8536.0        False  \n",
       "8689  False             0.0        False  \n",
       "8690  False          1873.0         True  \n",
       "8691  False          4637.0        False  \n",
       "8692  False          4826.0         True  \n",
       "\n",
       "[8693 rows x 11 columns]"
      ]
     },
     "execution_count": 4,
     "metadata": {},
     "output_type": "execute_result"
    }
   ],
   "source": [
    "\n",
    "data_TotalExpenses = data[['RoomService', 'FoodCourt','ShoppingMall','Spa', 'VRDeck']]\n",
    "\n",
    "# Calculate sum of each row and create 'sum' column\n",
    "data_TotalExpenses['Total Expenses'] = data_TotalExpenses.sum(axis=1)\n",
    "\n",
    "# Create 'Total Expenses' column in the original DataFrame\n",
    "data['Total Expenses'] = data_TotalExpenses['Total Expenses']\n",
    "\n",
    "data_updated = data[['PassengerId', 'HomePlanet', 'CryoSleep', 'Cabin', 'Destination', 'Age', 'VIP', 'Transported', 'Total Expenses']]\n",
    "\n",
    "# Splitting the 'Cabin' column\n",
    "data_updated[['Deck','Num', 'Side']] = data_updated['Cabin'].str.split('/', expand=True)\n",
    "\n",
    "# Selecting the desired columns for the final data_updated DataFrame\n",
    "data_updated = data_updated[['PassengerId', 'HomePlanet', 'CryoSleep', 'Deck', 'Num', 'Side', 'Destination', 'Age', 'VIP', 'Total Expenses','Transported']]\n",
    "data_updated"
   ]
  },
  {
   "cell_type": "code",
   "execution_count": 5,
   "id": "ad3f73d6",
   "metadata": {
    "colab": {
     "base_uri": "https://localhost:8080/"
    },
    "id": "0i7Y221nZViY",
    "outputId": "42cc61d0-d943-4875-948f-ac1c46f4928d"
   },
   "outputs": [
    {
     "name": "stdout",
     "output_type": "stream",
     "text": [
      "PassengerId         0\n",
      "HomePlanet        201\n",
      "CryoSleep         217\n",
      "Deck              199\n",
      "Num               199\n",
      "Side              199\n",
      "Destination       182\n",
      "Age               179\n",
      "VIP               203\n",
      "Total Expenses      0\n",
      "Transported         0\n",
      "dtype: int64\n"
     ]
    }
   ],
   "source": [
    "#print the number of missing values in each column\n",
    "print(data_updated.isnull().sum())"
   ]
  },
  {
   "cell_type": "code",
   "execution_count": 6,
   "id": "57947f0a",
   "metadata": {
    "id": "nkYPbGWcXQHR"
   },
   "outputs": [],
   "source": [
    "data_updated.loc[(data_updated['Total Expenses'] == 0) & (data_updated['CryoSleep'].isnull()), 'CryoSleep'] = True"
   ]
  },
  {
   "cell_type": "code",
   "execution_count": 7,
   "id": "32eb2626",
   "metadata": {
    "id": "Yf5pimDJZDwx"
   },
   "outputs": [],
   "source": [
    "data_updated.loc[(data_updated['Total Expenses'] != 0) & (data_updated['CryoSleep'].isnull()), 'CryoSleep'] = False"
   ]
  },
  {
   "cell_type": "code",
   "execution_count": 8,
   "id": "37fe72f9",
   "metadata": {
    "colab": {
     "base_uri": "https://localhost:8080/"
    },
    "id": "oHmzPDczXT-0",
    "outputId": "bce50323-3013-475f-a076-59bc42ab6fe7"
   },
   "outputs": [
    {
     "name": "stdout",
     "output_type": "stream",
     "text": [
      "PassengerId         0\n",
      "HomePlanet        201\n",
      "CryoSleep           0\n",
      "Deck              199\n",
      "Num               199\n",
      "Side              199\n",
      "Destination       182\n",
      "Age               179\n",
      "VIP               203\n",
      "Total Expenses      0\n",
      "Transported         0\n",
      "dtype: int64\n"
     ]
    }
   ],
   "source": [
    "print(data_updated.isnull().sum())"
   ]
  },
  {
   "cell_type": "code",
   "execution_count": 9,
   "id": "b80f7e70",
   "metadata": {
    "colab": {
     "base_uri": "https://localhost:8080/"
    },
    "id": "0gXgf-i7Z7G1",
    "outputId": "de5b505e-12af-4da6-ec74-a569a8ba910c"
   },
   "outputs": [
    {
     "name": "stdout",
     "output_type": "stream",
     "text": [
      "0\n"
     ]
    }
   ],
   "source": [
    "print(data_updated[(data_updated['Age'] < 18) & (data_updated['VIP'] == True)].shape[0])"
   ]
  },
  {
   "cell_type": "code",
   "execution_count": 10,
   "id": "d4b312c5",
   "metadata": {
    "id": "Pngd-JD3em4n"
   },
   "outputs": [],
   "source": [
    "data_updated.loc[(data_updated['Age'] < 18) & (data_updated['VIP'].isnull()), 'VIP'] = False"
   ]
  },
  {
   "cell_type": "code",
   "execution_count": 11,
   "id": "3078f206",
   "metadata": {
    "colab": {
     "base_uri": "https://localhost:8080/"
    },
    "id": "qN0CwrFnfgbM",
    "outputId": "96d97b3f-fc98-41d3-8e98-4cf20689f738"
   },
   "outputs": [
    {
     "name": "stdout",
     "output_type": "stream",
     "text": [
      "PassengerId         0\n",
      "HomePlanet        201\n",
      "CryoSleep           0\n",
      "Deck              199\n",
      "Num               199\n",
      "Side              199\n",
      "Destination       182\n",
      "Age               179\n",
      "VIP               158\n",
      "Total Expenses      0\n",
      "Transported         0\n",
      "dtype: int64\n"
     ]
    }
   ],
   "source": [
    "print(data_updated.isnull().sum())"
   ]
  },
  {
   "cell_type": "code",
   "execution_count": 12,
   "id": "d8a35771",
   "metadata": {
    "colab": {
     "base_uri": "https://localhost:8080/"
    },
    "id": "iq_KbKZvgNXp",
    "outputId": "ba71697a-baf3-4fee-ee90-2054384540ed"
   },
   "outputs": [
    {
     "name": "stdout",
     "output_type": "stream",
     "text": [
      "0\n"
     ]
    }
   ],
   "source": [
    "print(data_updated[(data_updated['HomePlanet'] == 'Earth') & (data_updated['VIP'] == True)].shape[0])"
   ]
  },
  {
   "cell_type": "code",
   "execution_count": 13,
   "id": "aa01a5bb",
   "metadata": {
    "id": "VokxeRFWiMu6"
   },
   "outputs": [],
   "source": [
    "data_updated.loc[(data_updated['HomePlanet'] == 'Earth') & (data_updated['VIP'].isnull()), 'VIP'] = False"
   ]
  },
  {
   "cell_type": "code",
   "execution_count": 14,
   "id": "16f817a6",
   "metadata": {
    "colab": {
     "base_uri": "https://localhost:8080/"
    },
    "id": "VsttbWLfiXPK",
    "outputId": "17fefdac-d96b-4087-e601-f0d45ae5393b"
   },
   "outputs": [
    {
     "name": "stdout",
     "output_type": "stream",
     "text": [
      "PassengerId         0\n",
      "HomePlanet        201\n",
      "CryoSleep           0\n",
      "Deck              199\n",
      "Num               199\n",
      "Side              199\n",
      "Destination       182\n",
      "Age               179\n",
      "VIP                76\n",
      "Total Expenses      0\n",
      "Transported         0\n",
      "dtype: int64\n"
     ]
    }
   ],
   "source": [
    "print(data_updated.isnull().sum())"
   ]
  },
  {
   "cell_type": "markdown",
   "id": "eeb1b7cf",
   "metadata": {
    "id": "VNps0d2LxGI2"
   },
   "source": [
    "## Handling the missing values in 'HomePlanet'"
   ]
  },
  {
   "cell_type": "code",
   "execution_count": 15,
   "id": "03caed10",
   "metadata": {
    "id": "Pp2ZVuPGsTJU"
   },
   "outputs": [],
   "source": [
    "data_updated[['Group','Person']] = data_updated['PassengerId'].str.split('_', expand=True)\n",
    "data_updated['PassengerId'] = data['PassengerId']\n",
    "data_updated = data_updated[['PassengerId', 'Group', 'HomePlanet', 'CryoSleep', 'Deck', 'Num', 'Side', 'Destination', 'Age', 'VIP', 'Total Expenses','Transported']]"
   ]
  },
  {
   "cell_type": "code",
   "execution_count": 16,
   "id": "ca3f2dac",
   "metadata": {
    "id": "2SWLoOwrpIJB"
   },
   "outputs": [
    {
     "name": "stderr",
     "output_type": "stream",
     "text": [
      "C:\\Users\\bhatt\\AppData\\Local\\Temp\\ipykernel_8568\\3583414770.py:1: SettingWithCopyWarning: \n",
      "A value is trying to be set on a copy of a slice from a DataFrame.\n",
      "Try using .loc[row_indexer,col_indexer] = value instead\n",
      "\n",
      "See the caveats in the documentation: https://pandas.pydata.org/pandas-docs/stable/user_guide/indexing.html#returning-a-view-versus-a-copy\n",
      "  data_updated.loc[:, 'HomePlanet'] = data_updated.groupby('Group')['HomePlanet'].ffill()\n",
      "C:\\Users\\bhatt\\AppData\\Local\\Temp\\ipykernel_8568\\3583414770.py:2: SettingWithCopyWarning: \n",
      "A value is trying to be set on a copy of a slice from a DataFrame.\n",
      "Try using .loc[row_indexer,col_indexer] = value instead\n",
      "\n",
      "See the caveats in the documentation: https://pandas.pydata.org/pandas-docs/stable/user_guide/indexing.html#returning-a-view-versus-a-copy\n",
      "  data_updated.loc[:, 'HomePlanet'] = data_updated.groupby('Group')['HomePlanet'].bfill()\n"
     ]
    }
   ],
   "source": [
    "data_updated.loc[:, 'HomePlanet'] = data_updated.groupby('Group')['HomePlanet'].ffill()\n",
    "data_updated.loc[:, 'HomePlanet'] = data_updated.groupby('Group')['HomePlanet'].bfill()"
   ]
  },
  {
   "cell_type": "code",
   "execution_count": 17,
   "id": "f78edaab",
   "metadata": {
    "colab": {
     "base_uri": "https://localhost:8080/"
    },
    "id": "njAHT6EwpKan",
    "outputId": "85de5d6e-f705-4607-e32a-de07d3621fbc"
   },
   "outputs": [
    {
     "name": "stdout",
     "output_type": "stream",
     "text": [
      "PassengerId         0\n",
      "Group               0\n",
      "HomePlanet        111\n",
      "CryoSleep           0\n",
      "Deck              199\n",
      "Num               199\n",
      "Side              199\n",
      "Destination       182\n",
      "Age               179\n",
      "VIP                76\n",
      "Total Expenses      0\n",
      "Transported         0\n",
      "dtype: int64\n"
     ]
    }
   ],
   "source": [
    "print(data_updated.isnull().sum())\n",
    "#there are still a few missing values in HomePlanet because some groups have only one person each"
   ]
  },
  {
   "cell_type": "code",
   "execution_count": 18,
   "id": "5474215d",
   "metadata": {
    "id": "fWXVg7eHzzRr"
   },
   "outputs": [],
   "source": [
    "data_updated.loc[data_updated['Deck'].isin(['A', 'B', 'C', 'T']) & data_updated['HomePlanet'].isnull(), 'HomePlanet'] = 'Europa'"
   ]
  },
  {
   "cell_type": "code",
   "execution_count": 19,
   "id": "a246b690",
   "metadata": {
    "colab": {
     "base_uri": "https://localhost:8080/"
    },
    "id": "nbCnGm6Ez8RA",
    "outputId": "5aeba5f2-90ec-4f46-947b-0ee820da51af"
   },
   "outputs": [
    {
     "name": "stdout",
     "output_type": "stream",
     "text": [
      "PassengerId         0\n",
      "Group               0\n",
      "HomePlanet        104\n",
      "CryoSleep           0\n",
      "Deck              199\n",
      "Num               199\n",
      "Side              199\n",
      "Destination       182\n",
      "Age               179\n",
      "VIP                76\n",
      "Total Expenses      0\n",
      "Transported         0\n",
      "dtype: int64\n"
     ]
    }
   ],
   "source": [
    "print(data_updated.isnull().sum())"
   ]
  },
  {
   "cell_type": "code",
   "execution_count": 20,
   "id": "3e4eddfb",
   "metadata": {
    "id": "N8lD4-zP0TAf"
   },
   "outputs": [],
   "source": [
    "data_updated.loc[(data_updated['Deck'] == 'D') & data_updated['HomePlanet'].isnull(), 'HomePlanet'] = 'Mars'"
   ]
  },
  {
   "cell_type": "code",
   "execution_count": 21,
   "id": "9c96c4a1",
   "metadata": {
    "colab": {
     "base_uri": "https://localhost:8080/"
    },
    "id": "EfboauHP0nHQ",
    "outputId": "deb3df14-e148-4b3a-e6c1-19bf5a4fa54d"
   },
   "outputs": [
    {
     "name": "stdout",
     "output_type": "stream",
     "text": [
      "PassengerId         0\n",
      "Group               0\n",
      "HomePlanet        100\n",
      "CryoSleep           0\n",
      "Deck              199\n",
      "Num               199\n",
      "Side              199\n",
      "Destination       182\n",
      "Age               179\n",
      "VIP                76\n",
      "Total Expenses      0\n",
      "Transported         0\n",
      "dtype: int64\n"
     ]
    }
   ],
   "source": [
    "print(data_updated.isnull().sum())"
   ]
  },
  {
   "cell_type": "code",
   "execution_count": 22,
   "id": "827a8869",
   "metadata": {
    "colab": {
     "base_uri": "https://localhost:8080/"
    },
    "id": "s97Zl8mO4dTU",
    "outputId": "7ee638b6-13d7-4c3b-9869-70b26c93f1ca"
   },
   "outputs": [
    {
     "name": "stdout",
     "output_type": "stream",
     "text": [
      "PassengerId       0\n",
      "Group             0\n",
      "HomePlanet        0\n",
      "CryoSleep         0\n",
      "Deck              0\n",
      "Num               0\n",
      "Side              0\n",
      "Destination       0\n",
      "Age               0\n",
      "VIP               0\n",
      "Total Expenses    0\n",
      "Transported       0\n",
      "dtype: int64\n"
     ]
    },
    {
     "name": "stderr",
     "output_type": "stream",
     "text": [
      "C:\\Users\\bhatt\\AppData\\Local\\Temp\\ipykernel_8568\\429029935.py:35: SettingWithCopyWarning: \n",
      "A value is trying to be set on a copy of a slice from a DataFrame.\n",
      "Try using .loc[row_indexer,col_indexer] = value instead\n",
      "\n",
      "See the caveats in the documentation: https://pandas.pydata.org/pandas-docs/stable/user_guide/indexing.html#returning-a-view-versus-a-copy\n",
      "  data_updated[feature] = data_imputed[feature]\n"
     ]
    }
   ],
   "source": [
    "# Create a copy of the DataFrame to avoid modifying the original\n",
    "data_imputed = data_updated.copy()\n",
    "\n",
    "# Select relevant columns for KNN imputation (numerical and categorical)\n",
    "features = ['HomePlanet','Age', 'Deck', 'Num', 'Side', 'Destination', 'VIP']\n",
    "data_subset = data_imputed[features]\n",
    "\n",
    "# Convert categorical features to numerical using one-hot encoding\n",
    "data_encoded = pd.get_dummies(data_subset, columns=['HomePlanet', 'Deck', 'Side', 'Destination', 'VIP'], dummy_na=False) #dummy_na=False will ignore nan values during one-hot encoding\n",
    "\n",
    "# Initialize KNNImputer\n",
    "from sklearn.impute import KNNImputer\n",
    "imputer = KNNImputer(n_neighbors=5)  # You can adjust the number of neighbors\n",
    "\n",
    "# Fit and transform the data\n",
    "data_imputed_array = imputer.fit_transform(data_encoded)\n",
    "\n",
    "# Convert the imputed array back to a DataFrame\n",
    "data_imputed = pd.DataFrame(data_imputed_array, columns=data_encoded.columns)\n",
    "\n",
    "# Reverse one-hot encoding to get categorical features back\n",
    "categorical_features = ['HomePlanet', 'Deck', 'Side', 'Destination', 'VIP']\n",
    "for feature in categorical_features:\n",
    "    #Get a list of columns related to the feature\n",
    "    feature_cols = [col for col in data_imputed.columns if feature in col]\n",
    "\n",
    "    #Find the column with the maximum value for each row and extract the category name\n",
    "    data_imputed[feature] = data_imputed[feature_cols].idxmax(axis=1).str.replace(f'{feature}_', '')\n",
    "\n",
    "    #Remove the one-hot encoded columns for the current feature\n",
    "    data_imputed = data_imputed.drop(feature_cols, axis=1)\n",
    "\n",
    "# Update the original DataFrame with imputed values\n",
    "for feature in features:\n",
    "    data_updated[feature] = data_imputed[feature]\n",
    "\n",
    "print(data_updated.isnull().sum())"
   ]
  },
  {
   "cell_type": "code",
   "execution_count": 23,
   "id": "5c5da555",
   "metadata": {
    "id": "X7ZwNSjA62dF"
   },
   "outputs": [],
   "source": [
    "data_updated = data_updated[['PassengerId', 'HomePlanet', 'CryoSleep', 'Deck', 'Num', 'Side', 'Destination', 'Age', 'VIP', 'Total Expenses','Transported']]"
   ]
  },
  {
   "cell_type": "code",
   "execution_count": 24,
   "id": "ce64737c",
   "metadata": {
    "colab": {
     "base_uri": "https://localhost:8080/",
     "height": 204
    },
    "id": "jrnfLJRH65zE",
    "outputId": "c17e825d-4003-42f4-e5fa-fa9c7559101b"
   },
   "outputs": [
    {
     "data": {
      "text/html": [
       "<div>\n",
       "<style scoped>\n",
       "    .dataframe tbody tr th:only-of-type {\n",
       "        vertical-align: middle;\n",
       "    }\n",
       "\n",
       "    .dataframe tbody tr th {\n",
       "        vertical-align: top;\n",
       "    }\n",
       "\n",
       "    .dataframe thead th {\n",
       "        text-align: right;\n",
       "    }\n",
       "</style>\n",
       "<table border=\"1\" class=\"dataframe\">\n",
       "  <thead>\n",
       "    <tr style=\"text-align: right;\">\n",
       "      <th></th>\n",
       "      <th>PassengerId</th>\n",
       "      <th>HomePlanet</th>\n",
       "      <th>CryoSleep</th>\n",
       "      <th>Deck</th>\n",
       "      <th>Num</th>\n",
       "      <th>Side</th>\n",
       "      <th>Destination</th>\n",
       "      <th>Age</th>\n",
       "      <th>VIP</th>\n",
       "      <th>Total Expenses</th>\n",
       "      <th>Transported</th>\n",
       "    </tr>\n",
       "  </thead>\n",
       "  <tbody>\n",
       "    <tr>\n",
       "      <th>0</th>\n",
       "      <td>0001_01</td>\n",
       "      <td>Europa</td>\n",
       "      <td>False</td>\n",
       "      <td>B</td>\n",
       "      <td>0.0</td>\n",
       "      <td>P</td>\n",
       "      <td>TRAPPIST-1e</td>\n",
       "      <td>39.0</td>\n",
       "      <td>False</td>\n",
       "      <td>0.0</td>\n",
       "      <td>False</td>\n",
       "    </tr>\n",
       "    <tr>\n",
       "      <th>1</th>\n",
       "      <td>0002_01</td>\n",
       "      <td>Earth</td>\n",
       "      <td>False</td>\n",
       "      <td>F</td>\n",
       "      <td>0.0</td>\n",
       "      <td>S</td>\n",
       "      <td>TRAPPIST-1e</td>\n",
       "      <td>24.0</td>\n",
       "      <td>False</td>\n",
       "      <td>736.0</td>\n",
       "      <td>True</td>\n",
       "    </tr>\n",
       "    <tr>\n",
       "      <th>2</th>\n",
       "      <td>0003_01</td>\n",
       "      <td>Europa</td>\n",
       "      <td>False</td>\n",
       "      <td>A</td>\n",
       "      <td>0.0</td>\n",
       "      <td>S</td>\n",
       "      <td>TRAPPIST-1e</td>\n",
       "      <td>58.0</td>\n",
       "      <td>True</td>\n",
       "      <td>10383.0</td>\n",
       "      <td>False</td>\n",
       "    </tr>\n",
       "    <tr>\n",
       "      <th>3</th>\n",
       "      <td>0003_02</td>\n",
       "      <td>Europa</td>\n",
       "      <td>False</td>\n",
       "      <td>A</td>\n",
       "      <td>0.0</td>\n",
       "      <td>S</td>\n",
       "      <td>TRAPPIST-1e</td>\n",
       "      <td>33.0</td>\n",
       "      <td>False</td>\n",
       "      <td>5176.0</td>\n",
       "      <td>False</td>\n",
       "    </tr>\n",
       "    <tr>\n",
       "      <th>4</th>\n",
       "      <td>0004_01</td>\n",
       "      <td>Earth</td>\n",
       "      <td>False</td>\n",
       "      <td>F</td>\n",
       "      <td>1.0</td>\n",
       "      <td>S</td>\n",
       "      <td>TRAPPIST-1e</td>\n",
       "      <td>16.0</td>\n",
       "      <td>False</td>\n",
       "      <td>1091.0</td>\n",
       "      <td>True</td>\n",
       "    </tr>\n",
       "  </tbody>\n",
       "</table>\n",
       "</div>"
      ],
      "text/plain": [
       "  PassengerId HomePlanet CryoSleep Deck  Num Side  Destination   Age    VIP  \\\n",
       "0     0001_01     Europa     False    B  0.0    P  TRAPPIST-1e  39.0  False   \n",
       "1     0002_01      Earth     False    F  0.0    S  TRAPPIST-1e  24.0  False   \n",
       "2     0003_01     Europa     False    A  0.0    S  TRAPPIST-1e  58.0   True   \n",
       "3     0003_02     Europa     False    A  0.0    S  TRAPPIST-1e  33.0  False   \n",
       "4     0004_01      Earth     False    F  1.0    S  TRAPPIST-1e  16.0  False   \n",
       "\n",
       "   Total Expenses  Transported  \n",
       "0             0.0        False  \n",
       "1           736.0         True  \n",
       "2         10383.0        False  \n",
       "3          5176.0        False  \n",
       "4          1091.0         True  "
      ]
     },
     "execution_count": 24,
     "metadata": {},
     "output_type": "execute_result"
    }
   ],
   "source": [
    "data_updated.head()"
   ]
  },
  {
   "cell_type": "code",
   "execution_count": 25,
   "id": "ae3584d0",
   "metadata": {},
   "outputs": [],
   "source": [
    "# Target Encoding: This enconding is used when the relationship between \n",
    "#categories and the target variable is considerable and cannot be ignored.\n",
    "import category_encoders as ce\n",
    "\n",
    "# Used target encoding on the columns HomePlanet, Destination, Deck, CryoSleep, Side\n",
    "target_encoder = ce.TargetEncoder(cols=['HomePlanet', 'Destination', 'Deck', 'CryoSleep', 'Side'])"
   ]
  },
  {
   "cell_type": "code",
   "execution_count": 26,
   "id": "37e154a5",
   "metadata": {},
   "outputs": [],
   "source": [
    "# Transforming the encoded columns as per the target column\n",
    "data_encoded = target_encoder.fit_transform(data_updated[['HomePlanet', 'Destination', 'Deck', 'CryoSleep', 'Side']], data_updated['Transported'])"
   ]
  },
  {
   "cell_type": "code",
   "execution_count": 27,
   "id": "3c8c91d5",
   "metadata": {
    "scrolled": true
   },
   "outputs": [
    {
     "name": "stdout",
     "output_type": "stream",
     "text": [
      "      HomePlanet  Destination      Deck  CryoSleep      Side\n",
      "0       0.660055     0.471175  0.734275   0.328176  0.453575\n",
      "1       0.424588     0.471175  0.439871   0.328176  0.555037\n",
      "2       0.660055     0.471175  0.498901   0.328176  0.555037\n",
      "3       0.660055     0.471175  0.498901   0.328176  0.555037\n",
      "4       0.424588     0.471175  0.439871   0.328176  0.555037\n",
      "...          ...          ...       ...        ...       ...\n",
      "8688    0.660055     0.600404  0.498901   0.328176  0.453575\n",
      "8689    0.424588     0.503769  0.516217   0.814673  0.555037\n",
      "8690    0.424588     0.471175  0.516217   0.328176  0.555037\n",
      "8691    0.660055     0.600404  0.357306   0.328176  0.555037\n",
      "8692    0.660055     0.471175  0.357306   0.328176  0.555037\n",
      "\n",
      "[8693 rows x 5 columns]\n"
     ]
    }
   ],
   "source": [
    "print(data_encoded)"
   ]
  },
  {
   "cell_type": "code",
   "execution_count": 28,
   "id": "497548d7",
   "metadata": {},
   "outputs": [],
   "source": [
    "# Replacing the encoded values of the respective columns in the original dataset\n",
    "data_updated['HomePlanet'] = data_encoded['HomePlanet']\n",
    "data_updated['Destination'] = data_encoded['Destination']\n",
    "data_updated['Deck'] = data_encoded['Deck']\n",
    "data_updated['CryoSleep'] = data_encoded['CryoSleep']\n",
    "data_updated['Side'] = data_encoded['Side']"
   ]
  },
  {
   "cell_type": "code",
   "execution_count": 29,
   "id": "365ccda2",
   "metadata": {},
   "outputs": [
    {
     "name": "stdout",
     "output_type": "stream",
     "text": [
      "     PassengerId  HomePlanet  CryoSleep      Deck     Num      Side  \\\n",
      "0        0001_01    0.660055   0.328176  0.734275     0.0  0.453575   \n",
      "1        0002_01    0.424588   0.328176  0.439871     0.0  0.555037   \n",
      "2        0003_01    0.660055   0.328176  0.498901     0.0  0.555037   \n",
      "3        0003_02    0.660055   0.328176  0.498901     0.0  0.555037   \n",
      "4        0004_01    0.424588   0.328176  0.439871     1.0  0.555037   \n",
      "...          ...         ...        ...       ...     ...       ...   \n",
      "8688     9276_01    0.660055   0.328176  0.498901    98.0  0.453575   \n",
      "8689     9278_01    0.424588   0.814673  0.516217  1499.0  0.555037   \n",
      "8690     9279_01    0.424588   0.328176  0.516217  1500.0  0.555037   \n",
      "8691     9280_01    0.660055   0.328176  0.357306   608.0  0.555037   \n",
      "8692     9280_02    0.660055   0.328176  0.357306   608.0  0.555037   \n",
      "\n",
      "      Destination   Age    VIP  Total Expenses  Transported  \n",
      "0        0.471175  39.0  False             0.0        False  \n",
      "1        0.471175  24.0  False           736.0         True  \n",
      "2        0.471175  58.0   True         10383.0        False  \n",
      "3        0.471175  33.0  False          5176.0        False  \n",
      "4        0.471175  16.0  False          1091.0         True  \n",
      "...           ...   ...    ...             ...          ...  \n",
      "8688     0.600404  41.0   True          8536.0        False  \n",
      "8689     0.503769  18.0  False             0.0        False  \n",
      "8690     0.471175  26.0  False          1873.0         True  \n",
      "8691     0.600404  32.0  False          4637.0        False  \n",
      "8692     0.471175  44.0  False          4826.0         True  \n",
      "\n",
      "[8693 rows x 11 columns]\n"
     ]
    }
   ],
   "source": [
    "print(data_updated)"
   ]
  },
  {
   "cell_type": "code",
   "execution_count": 30,
   "id": "750eeaae",
   "metadata": {},
   "outputs": [
    {
     "name": "stdout",
     "output_type": "stream",
     "text": [
      "object\n"
     ]
    }
   ],
   "source": [
    "print(data_updated['VIP'].dtype)"
   ]
  },
  {
   "cell_type": "code",
   "execution_count": 31,
   "id": "a30403e3",
   "metadata": {},
   "outputs": [
    {
     "name": "stdout",
     "output_type": "stream",
     "text": [
      "     PassengerId  HomePlanet  CryoSleep      Deck     Num      Side  \\\n",
      "0        0001_01    0.660055   0.328176  0.734275     0.0  0.453575   \n",
      "1        0002_01    0.424588   0.328176  0.439871     0.0  0.555037   \n",
      "2        0003_01    0.660055   0.328176  0.498901     0.0  0.555037   \n",
      "3        0003_02    0.660055   0.328176  0.498901     0.0  0.555037   \n",
      "4        0004_01    0.424588   0.328176  0.439871     1.0  0.555037   \n",
      "...          ...         ...        ...       ...     ...       ...   \n",
      "8688     9276_01    0.660055   0.328176  0.498901    98.0  0.453575   \n",
      "8689     9278_01    0.424588   0.814673  0.516217  1499.0  0.555037   \n",
      "8690     9279_01    0.424588   0.328176  0.516217  1500.0  0.555037   \n",
      "8691     9280_01    0.660055   0.328176  0.357306   608.0  0.555037   \n",
      "8692     9280_02    0.660055   0.328176  0.357306   608.0  0.555037   \n",
      "\n",
      "      Destination   Age  VIP  Total Expenses  Transported  \n",
      "0        0.471175  39.0    0             0.0        False  \n",
      "1        0.471175  24.0    0           736.0         True  \n",
      "2        0.471175  58.0    1         10383.0        False  \n",
      "3        0.471175  33.0    0          5176.0        False  \n",
      "4        0.471175  16.0    0          1091.0         True  \n",
      "...           ...   ...  ...             ...          ...  \n",
      "8688     0.600404  41.0    1          8536.0        False  \n",
      "8689     0.503769  18.0    0             0.0        False  \n",
      "8690     0.471175  26.0    0          1873.0         True  \n",
      "8691     0.600404  32.0    0          4637.0        False  \n",
      "8692     0.471175  44.0    0          4826.0         True  \n",
      "\n",
      "[8693 rows x 11 columns]\n"
     ]
    }
   ],
   "source": [
    "# For the column VIP, replaced the False value with 0 and True value with 1\n",
    "data_updated['VIP'] = data_updated['VIP'].replace({'True': 1, 'False': 0})\n",
    "print(data_updated)"
   ]
  },
  {
   "cell_type": "code",
   "execution_count": 32,
   "id": "fcdea828",
   "metadata": {},
   "outputs": [],
   "source": [
    "# Splitting and storing the taget column and the sample columns\n",
    "X = data_updated[['PassengerId','HomePlanet','CryoSleep','Deck','Num','Side','Destination','Age','VIP','Total Expenses']]\n",
    "y = data_updated[['Transported']]"
   ]
  },
  {
   "cell_type": "code",
   "execution_count": 33,
   "id": "0201c811",
   "metadata": {
    "scrolled": false
   },
   "outputs": [
    {
     "name": "stdout",
     "output_type": "stream",
     "text": [
      "     PassengerId  HomePlanet  CryoSleep      Deck     Num      Side  \\\n",
      "0        0001_01    0.660055   0.328176  0.734275     0.0  0.453575   \n",
      "1        0002_01    0.424588   0.328176  0.439871     0.0  0.555037   \n",
      "2        0003_01    0.660055   0.328176  0.498901     0.0  0.555037   \n",
      "3        0003_02    0.660055   0.328176  0.498901     0.0  0.555037   \n",
      "4        0004_01    0.424588   0.328176  0.439871     1.0  0.555037   \n",
      "...          ...         ...        ...       ...     ...       ...   \n",
      "8688     9276_01    0.660055   0.328176  0.498901    98.0  0.453575   \n",
      "8689     9278_01    0.424588   0.814673  0.516217  1499.0  0.555037   \n",
      "8690     9279_01    0.424588   0.328176  0.516217  1500.0  0.555037   \n",
      "8691     9280_01    0.660055   0.328176  0.357306   608.0  0.555037   \n",
      "8692     9280_02    0.660055   0.328176  0.357306   608.0  0.555037   \n",
      "\n",
      "      Destination   Age  VIP  Total Expenses  \n",
      "0        0.471175  39.0    0             0.0  \n",
      "1        0.471175  24.0    0           736.0  \n",
      "2        0.471175  58.0    1         10383.0  \n",
      "3        0.471175  33.0    0          5176.0  \n",
      "4        0.471175  16.0    0          1091.0  \n",
      "...           ...   ...  ...             ...  \n",
      "8688     0.600404  41.0    1          8536.0  \n",
      "8689     0.503769  18.0    0             0.0  \n",
      "8690     0.471175  26.0    0          1873.0  \n",
      "8691     0.600404  32.0    0          4637.0  \n",
      "8692     0.471175  44.0    0          4826.0  \n",
      "\n",
      "[8693 rows x 10 columns]\n"
     ]
    }
   ],
   "source": [
    "print(X)"
   ]
  },
  {
   "cell_type": "code",
   "execution_count": 34,
   "id": "f3312708",
   "metadata": {},
   "outputs": [
    {
     "name": "stdout",
     "output_type": "stream",
     "text": [
      "      Transported\n",
      "0           False\n",
      "1            True\n",
      "2           False\n",
      "3           False\n",
      "4            True\n",
      "...           ...\n",
      "8688        False\n",
      "8689        False\n",
      "8690         True\n",
      "8691        False\n",
      "8692         True\n",
      "\n",
      "[8693 rows x 1 columns]\n"
     ]
    }
   ],
   "source": [
    "print(y)"
   ]
  },
  {
   "cell_type": "code",
   "execution_count": 35,
   "id": "6c46e640",
   "metadata": {},
   "outputs": [],
   "source": [
    "# Splitting the training and validation set in 80:20 ratio\n",
    "X_train, X_test , y_train, y_test = train_test_split(X, y, test_size = 0.2)"
   ]
  },
  {
   "cell_type": "code",
   "execution_count": 36,
   "id": "14cda7c7",
   "metadata": {
    "scrolled": false
   },
   "outputs": [
    {
     "name": "stdout",
     "output_type": "stream",
     "text": [
      "     PassengerId  HomePlanet  CryoSleep      Deck     Num      Side  \\\n",
      "8221     8786_01    0.660055   0.814673  0.734275   284.0  0.453575   \n",
      "8647     9227_01    0.424588   0.814673  0.516217  1498.0  0.453575   \n",
      "4375     4656_01    0.424588   0.328176  0.439871   875.0  0.555037   \n",
      "4040     4316_01    0.424588   0.328176  0.439871   894.0  0.453575   \n",
      "7069     7523_01    0.424588   0.328176  0.516217  1219.0  0.555037   \n",
      "...          ...         ...        ...       ...     ...       ...   \n",
      "2625     2809_01    0.424588   0.814673  0.516217   453.0  0.453575   \n",
      "4301     4585_01    0.660055   0.328176  0.734275   182.0  0.555037   \n",
      "1805     1923_02    0.660055   0.814673  0.680054    65.0  0.453575   \n",
      "2626     2810_01    0.424588   0.814673  0.516217   454.0  0.453575   \n",
      "3277     3520_01    0.424588   0.328176  0.516217   578.0  0.453575   \n",
      "\n",
      "      Destination   Age  VIP  Total Expenses  \n",
      "8221     0.600404  59.0    0             0.0  \n",
      "8647     0.471175   7.0    0             0.0  \n",
      "4375     0.471175  23.0    0          2118.0  \n",
      "4040     0.503769  26.8    0          1178.0  \n",
      "7069     0.471175  24.0    0           810.0  \n",
      "...           ...   ...  ...             ...  \n",
      "2625     0.471175  41.0    0             0.0  \n",
      "4301     0.600404  32.0    0          7570.0  \n",
      "1805     0.600404  24.0    0             0.0  \n",
      "2626     0.471175  19.0    0             0.0  \n",
      "3277     0.471175  26.0    0           809.0  \n",
      "\n",
      "[6954 rows x 10 columns]\n"
     ]
    }
   ],
   "source": [
    "print(X_train)"
   ]
  },
  {
   "cell_type": "code",
   "execution_count": 37,
   "id": "72327c43",
   "metadata": {
    "scrolled": false
   },
   "outputs": [
    {
     "name": "stdout",
     "output_type": "stream",
     "text": [
      "      Transported\n",
      "8221         True\n",
      "8647        False\n",
      "4375        False\n",
      "4040        False\n",
      "7069         True\n",
      "...           ...\n",
      "2625         True\n",
      "4301        False\n",
      "1805         True\n",
      "2626        False\n",
      "3277        False\n",
      "\n",
      "[6954 rows x 1 columns]\n"
     ]
    }
   ],
   "source": [
    "print(y_train)"
   ]
  },
  {
   "cell_type": "code",
   "execution_count": 38,
   "id": "1f79209e",
   "metadata": {},
   "outputs": [
    {
     "name": "stdout",
     "output_type": "stream",
     "text": [
      "     PassengerId  HomePlanet  CryoSleep      Deck     Num      Side  \\\n",
      "702      0736_01    0.424588   0.328176  0.439871   156.0  0.453575   \n",
      "2519     2707_01    0.660055   0.328176  0.734275   103.0  0.555037   \n",
      "8471     9048_01    0.424588   0.814673  0.516217  1471.0  0.453575   \n",
      "3924     4186_01    0.424588   0.814673  0.516217   685.0  0.555037   \n",
      "7212     7705_01    0.523171   0.328176  0.439871  1470.0  0.555037   \n",
      "...          ...         ...        ...       ...     ...       ...   \n",
      "8667     9250_01    0.660055   0.328176  0.357306   597.0  0.453575   \n",
      "7193     7687_01    0.424588   0.328176  0.439871  1596.0  0.453575   \n",
      "7821     8344_02    0.523171   0.328176  0.433054   247.0  0.555037   \n",
      "4846     5171_01    0.424588   0.328176  0.439871   991.0  0.555037   \n",
      "697      0728_01    0.424588   0.328176  0.439871   134.0  0.555037   \n",
      "\n",
      "      Destination   Age  VIP  Total Expenses  \n",
      "702      0.471175  23.0    0           672.0  \n",
      "2519     0.471175  58.0    0          3467.0  \n",
      "8471     0.471175  54.0    0             0.0  \n",
      "3924     0.600404  17.0    0             0.0  \n",
      "7212     0.471175  46.0    0          5913.0  \n",
      "...           ...   ...  ...             ...  \n",
      "8667     0.471175  29.0    0          3188.0  \n",
      "7193     0.503769  20.0    0          1184.0  \n",
      "7821     0.471175  38.0    0           953.0  \n",
      "4846     0.471175  23.0    0           698.0  \n",
      "697      0.600404  29.0    0          1382.0  \n",
      "\n",
      "[1739 rows x 10 columns]\n"
     ]
    }
   ],
   "source": [
    "print(X_test)"
   ]
  },
  {
   "cell_type": "code",
   "execution_count": 39,
   "id": "2619a644",
   "metadata": {},
   "outputs": [
    {
     "name": "stdout",
     "output_type": "stream",
     "text": [
      "      Transported\n",
      "702         False\n",
      "2519         True\n",
      "8471        False\n",
      "3924         True\n",
      "7212        False\n",
      "...           ...\n",
      "8667         True\n",
      "7193        False\n",
      "7821         True\n",
      "4846        False\n",
      "697          True\n",
      "\n",
      "[1739 rows x 1 columns]\n"
     ]
    }
   ],
   "source": [
    "print(y_test)"
   ]
  },
  {
   "cell_type": "code",
   "execution_count": 40,
   "id": "a17ca3aa",
   "metadata": {},
   "outputs": [
    {
     "name": "stderr",
     "output_type": "stream",
     "text": [
      "C:\\Users\\bhatt\\anaconda3\\lib\\site-packages\\sklearn\\utils\\validation.py:993: DataConversionWarning: A column-vector y was passed when a 1d array was expected. Please change the shape of y to (n_samples, ), for example using ravel().\n",
      "  y = column_or_1d(y, warn=True)\n"
     ]
    },
    {
     "data": {
      "text/plain": [
       "LogisticRegression()"
      ]
     },
     "execution_count": 40,
     "metadata": {},
     "output_type": "execute_result"
    }
   ],
   "source": [
    "# Initializing the Logisitc Regression Model\n",
    "model = LogisticRegression()\n",
    "model.fit(X_train, y_train)"
   ]
  },
  {
   "cell_type": "code",
   "execution_count": 41,
   "id": "df3b98da",
   "metadata": {},
   "outputs": [],
   "source": [
    "y_pred = model.predict(X_test)"
   ]
  },
  {
   "cell_type": "code",
   "execution_count": 42,
   "id": "1ef6db61",
   "metadata": {},
   "outputs": [],
   "source": [
    "accuracy = accuracy_score(y_test, y_pred)\n",
    "conf_matrix = confusion_matrix(y_test, y_pred)\n",
    "class_report = classification_report(y_test, y_pred)"
   ]
  },
  {
   "cell_type": "code",
   "execution_count": 43,
   "id": "f5e64115",
   "metadata": {},
   "outputs": [
    {
     "name": "stdout",
     "output_type": "stream",
     "text": [
      "Accuracy : 0.6222\n",
      "Confusion Matrix :\n",
      "[[556 264]\n",
      " [393 526]]\n",
      "Classification Report :\n",
      "              precision    recall  f1-score   support\n",
      "\n",
      "       False       0.59      0.68      0.63       820\n",
      "        True       0.67      0.57      0.62       919\n",
      "\n",
      "    accuracy                           0.62      1739\n",
      "   macro avg       0.63      0.63      0.62      1739\n",
      "weighted avg       0.63      0.62      0.62      1739\n",
      "\n"
     ]
    }
   ],
   "source": [
    "print(f'Accuracy : {accuracy:.4f}')\n",
    "print('Confusion Matrix :')\n",
    "print(conf_matrix)\n",
    "print('Classification Report :')\n",
    "print(class_report)"
   ]
  },
  {
   "cell_type": "markdown",
   "id": "24f6efc2",
   "metadata": {},
   "source": [
    "#### Using F1 score and AUC-ROC for model performance measure"
   ]
  },
  {
   "cell_type": "code",
   "execution_count": 44,
   "id": "6a2cb1aa",
   "metadata": {},
   "outputs": [],
   "source": [
    "from sklearn.metrics import f1_score, roc_auc_score, roc_curve"
   ]
  },
  {
   "cell_type": "code",
   "execution_count": 45,
   "id": "688f3b59",
   "metadata": {},
   "outputs": [
    {
     "name": "stdout",
     "output_type": "stream",
     "text": [
      "F1 Score: 0.6156\n"
     ]
    }
   ],
   "source": [
    "# Calculate F1 Score\n",
    "f1 = f1_score(y_test, y_pred)\n",
    "print(f'F1 Score: {f1:.4f}')"
   ]
  },
  {
   "cell_type": "code",
   "execution_count": 46,
   "id": "9fbc5f4c",
   "metadata": {},
   "outputs": [
    {
     "name": "stdout",
     "output_type": "stream",
     "text": [
      "AUC-ROC: 0.6748\n"
     ]
    }
   ],
   "source": [
    "y_prob = model.predict_proba(X_test)[:, 1]\n",
    "\n",
    "# Calculate AUC-ROC\n",
    "roc_auc = roc_auc_score(y_test, y_prob)\n",
    "print(f'AUC-ROC: {roc_auc:.4f}')"
   ]
  },
  {
   "cell_type": "code",
   "execution_count": 47,
   "id": "ffa3ecbf",
   "metadata": {},
   "outputs": [],
   "source": [
    "# Compute ROC curve\n",
    "fpr, tpr, thresholds = roc_curve(y_test, y_prob)"
   ]
  },
  {
   "cell_type": "code",
   "execution_count": 48,
   "id": "b9f61f8f",
   "metadata": {},
   "outputs": [
    {
     "data": {
      "image/png": "[encoded data removed]",
      "text/plain": [
       "<Figure size 576x432 with 1 Axes>"
      ]
     },
     "metadata": {
      "needs_background": "light"
     },
     "output_type": "display_data"
    }
   ],
   "source": [
    "# Plotting the ROC curve\n",
    "plt.figure(figsize=(8, 6))\n",
    "plt.plot(fpr, tpr, color='green', label=f'ROC curve (AUC = {roc_auc:.2f})')\n",
    "plt.plot([0, 1], [0, 1], color='red', linestyle='--')  # Diagonal line\n",
    "plt.xlim([0.0, 1.0])\n",
    "plt.ylim([0.0, 1.0])\n",
    "plt.xlabel('False Positive Rate')\n",
    "plt.ylabel('True Positive Rate')\n",
    "plt.title('Receiver Operating Characteristic (ROC) Curve')\n",
    "plt.legend(loc='lower right')\n",
    "plt.grid()\n",
    "plt.show()"
   ]
  },
  {
   "cell_type": "code",
   "execution_count": null,
   "id": "d811c026",
   "metadata": {},
   "outputs": [],
   "source": []
  }
 ],
 "metadata": {
  "kernelspec": {
   "display_name": "Python 3 (ipykernel)",
   "language": "python",
   "name": "python3"
  },
  "language_info": {
   "codemirror_mode": {
    "name": "ipython",
    "version": 3
   },
   "file_extension": ".py",
   "mimetype": "text/x-python",
   "name": "python",
   "nbconvert_exporter": "python",
   "pygments_lexer": "ipython3",
   "version": "3.9.12"
  }
 },
 "nbformat": 4,
 "nbformat_minor": 5
}
