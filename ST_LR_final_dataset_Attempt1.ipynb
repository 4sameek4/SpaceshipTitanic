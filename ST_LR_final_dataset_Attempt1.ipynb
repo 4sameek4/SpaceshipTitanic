{
 "cells": [
  {
   "cell_type": "code",
   "execution_count": 1,
   "metadata": {
    "colab": {
     "base_uri": "https://localhost:8080/",
     "height": 309
    },
    "id": "aLUb2CMCMI8Q",
    "outputId": "0a486dfb-24d5-4809-af7c-332ce8d78e9d"
   },
   "outputs": [],
   "source": [
    "#Importing the required packages\n",
    "\n",
    "import pandas as pd\n",
    "import numpy as np\n",
    "import matplotlib.pyplot as plt\n",
    "import seaborn as sns\n",
    "from sklearn.linear_model import LogisticRegression\n",
    "from sklearn.model_selection import train_test_split\n",
    "from sklearn.metrics import accuracy_score, confusion_matrix, classification_report"
   ]
  },
  {
   "cell_type": "code",
   "execution_count": 2,
   "metadata": {},
   "outputs": [
    {
     "data": {
      "text/html": [
       "<div>\n",
       "<style scoped>\n",
       "    .dataframe tbody tr th:only-of-type {\n",
       "        vertical-align: middle;\n",
       "    }\n",
       "\n",
       "    .dataframe tbody tr th {\n",
       "        vertical-align: top;\n",
       "    }\n",
       "\n",
       "    .dataframe thead th {\n",
       "        text-align: right;\n",
       "    }\n",
       "</style>\n",
       "<table border=\"1\" class=\"dataframe\">\n",
       "  <thead>\n",
       "    <tr style=\"text-align: right;\">\n",
       "      <th></th>\n",
       "      <th>PassengerId</th>\n",
       "      <th>HomePlanet</th>\n",
       "      <th>CryoSleep</th>\n",
       "      <th>Cabin</th>\n",
       "      <th>Destination</th>\n",
       "      <th>Age</th>\n",
       "      <th>VIP</th>\n",
       "      <th>RoomService</th>\n",
       "      <th>FoodCourt</th>\n",
       "      <th>ShoppingMall</th>\n",
       "      <th>Spa</th>\n",
       "      <th>VRDeck</th>\n",
       "      <th>Name</th>\n",
       "      <th>Transported</th>\n",
       "    </tr>\n",
       "  </thead>\n",
       "  <tbody>\n",
       "    <tr>\n",
       "      <th>0</th>\n",
       "      <td>0001_01</td>\n",
       "      <td>Europa</td>\n",
       "      <td>False</td>\n",
       "      <td>B/0/P</td>\n",
       "      <td>TRAPPIST-1e</td>\n",
       "      <td>39.0</td>\n",
       "      <td>False</td>\n",
       "      <td>0.0</td>\n",
       "      <td>0.0</td>\n",
       "      <td>0.0</td>\n",
       "      <td>0.0</td>\n",
       "      <td>0.0</td>\n",
       "      <td>Maham Ofracculy</td>\n",
       "      <td>False</td>\n",
       "    </tr>\n",
       "    <tr>\n",
       "      <th>1</th>\n",
       "      <td>0002_01</td>\n",
       "      <td>Earth</td>\n",
       "      <td>False</td>\n",
       "      <td>F/0/S</td>\n",
       "      <td>TRAPPIST-1e</td>\n",
       "      <td>24.0</td>\n",
       "      <td>False</td>\n",
       "      <td>109.0</td>\n",
       "      <td>9.0</td>\n",
       "      <td>25.0</td>\n",
       "      <td>549.0</td>\n",
       "      <td>44.0</td>\n",
       "      <td>Juanna Vines</td>\n",
       "      <td>True</td>\n",
       "    </tr>\n",
       "    <tr>\n",
       "      <th>2</th>\n",
       "      <td>0003_01</td>\n",
       "      <td>Europa</td>\n",
       "      <td>False</td>\n",
       "      <td>A/0/S</td>\n",
       "      <td>TRAPPIST-1e</td>\n",
       "      <td>58.0</td>\n",
       "      <td>True</td>\n",
       "      <td>43.0</td>\n",
       "      <td>3576.0</td>\n",
       "      <td>0.0</td>\n",
       "      <td>6715.0</td>\n",
       "      <td>49.0</td>\n",
       "      <td>Altark Susent</td>\n",
       "      <td>False</td>\n",
       "    </tr>\n",
       "    <tr>\n",
       "      <th>3</th>\n",
       "      <td>0003_02</td>\n",
       "      <td>Europa</td>\n",
       "      <td>False</td>\n",
       "      <td>A/0/S</td>\n",
       "      <td>TRAPPIST-1e</td>\n",
       "      <td>33.0</td>\n",
       "      <td>False</td>\n",
       "      <td>0.0</td>\n",
       "      <td>1283.0</td>\n",
       "      <td>371.0</td>\n",
       "      <td>3329.0</td>\n",
       "      <td>193.0</td>\n",
       "      <td>Solam Susent</td>\n",
       "      <td>False</td>\n",
       "    </tr>\n",
       "    <tr>\n",
       "      <th>4</th>\n",
       "      <td>0004_01</td>\n",
       "      <td>Earth</td>\n",
       "      <td>False</td>\n",
       "      <td>F/1/S</td>\n",
       "      <td>TRAPPIST-1e</td>\n",
       "      <td>16.0</td>\n",
       "      <td>False</td>\n",
       "      <td>303.0</td>\n",
       "      <td>70.0</td>\n",
       "      <td>151.0</td>\n",
       "      <td>565.0</td>\n",
       "      <td>2.0</td>\n",
       "      <td>Willy Santantines</td>\n",
       "      <td>True</td>\n",
       "    </tr>\n",
       "  </tbody>\n",
       "</table>\n",
       "</div>"
      ],
      "text/plain": [
       "  PassengerId HomePlanet CryoSleep  Cabin  Destination   Age    VIP  \\\n",
       "0     0001_01     Europa     False  B/0/P  TRAPPIST-1e  39.0  False   \n",
       "1     0002_01      Earth     False  F/0/S  TRAPPIST-1e  24.0  False   \n",
       "2     0003_01     Europa     False  A/0/S  TRAPPIST-1e  58.0   True   \n",
       "3     0003_02     Europa     False  A/0/S  TRAPPIST-1e  33.0  False   \n",
       "4     0004_01      Earth     False  F/1/S  TRAPPIST-1e  16.0  False   \n",
       "\n",
       "   RoomService  FoodCourt  ShoppingMall     Spa  VRDeck               Name  \\\n",
       "0          0.0        0.0           0.0     0.0     0.0    Maham Ofracculy   \n",
       "1        109.0        9.0          25.0   549.0    44.0       Juanna Vines   \n",
       "2         43.0     3576.0           0.0  6715.0    49.0      Altark Susent   \n",
       "3          0.0     1283.0         371.0  3329.0   193.0       Solam Susent   \n",
       "4        303.0       70.0         151.0   565.0     2.0  Willy Santantines   \n",
       "\n",
       "   Transported  \n",
       "0        False  \n",
       "1         True  \n",
       "2        False  \n",
       "3        False  \n",
       "4         True  "
      ]
     },
     "execution_count": 2,
     "metadata": {},
     "output_type": "execute_result"
    }
   ],
   "source": [
    "#Reading the overall train dataset\n",
    "data = pd.read_csv('C:/Users/bhatt/OneDrive/Desktop/Sameek/0. University of North Texas/UNT Masters Course/Semester 1 - Fall 2024/CSCE 5214 - Software Development for AI/Project 1/spaceship-titanic/train.csv')\n",
    "\n",
    "#Displaying the first 5 rows of the overall train dataset\n",
    "data.head()"
   ]
  },
  {
   "cell_type": "code",
   "execution_count": 3,
   "metadata": {
    "colab": {
     "base_uri": "https://localhost:8080/",
     "height": 517
    },
    "id": "HL-_OuHkMsRh",
    "outputId": "f10c83a7-6328-450d-b21b-893b0341e588"
   },
   "outputs": [
    {
     "data": {
      "text/plain": [
       "PassengerId      object\n",
       "HomePlanet       object\n",
       "CryoSleep        object\n",
       "Cabin            object\n",
       "Destination      object\n",
       "Age             float64\n",
       "VIP              object\n",
       "RoomService     float64\n",
       "FoodCourt       float64\n",
       "ShoppingMall    float64\n",
       "Spa             float64\n",
       "VRDeck          float64\n",
       "Name             object\n",
       "Transported        bool\n",
       "dtype: object"
      ]
     },
     "execution_count": 3,
     "metadata": {},
     "output_type": "execute_result"
    }
   ],
   "source": [
    "#Getting the datatypes of the dataset\n",
    "data.dtypes"
   ]
  },
  {
   "cell_type": "code",
   "execution_count": 4,
   "metadata": {
    "colab": {
     "base_uri": "https://localhost:8080/",
     "height": 827
    },
    "id": "BED7VG-FNKRR",
    "outputId": "266e3963-3a81-4690-fbc0-b291d623096f"
   },
   "outputs": [
    {
     "name": "stderr",
     "output_type": "stream",
     "text": [
      "C:\\Users\\bhatt\\AppData\\Local\\Temp\\ipykernel_8056\\683837856.py:5: SettingWithCopyWarning: \n",
      "A value is trying to be set on a copy of a slice from a DataFrame.\n",
      "Try using .loc[row_indexer,col_indexer] = value instead\n",
      "\n",
      "See the caveats in the documentation: https://pandas.pydata.org/pandas-docs/stable/user_guide/indexing.html#returning-a-view-versus-a-copy\n",
      "  data_TotalExpenses['Total Expenses'] = data_TotalExpenses.sum(axis=1)\n",
      "C:\\Users\\bhatt\\AppData\\Local\\Temp\\ipykernel_8056\\683837856.py:13: SettingWithCopyWarning: \n",
      "A value is trying to be set on a copy of a slice from a DataFrame.\n",
      "Try using .loc[row_indexer,col_indexer] = value instead\n",
      "\n",
      "See the caveats in the documentation: https://pandas.pydata.org/pandas-docs/stable/user_guide/indexing.html#returning-a-view-versus-a-copy\n",
      "  data_updated[['Deck','Num', 'Side']] = data_updated['Cabin'].str.split('/', expand=True)\n",
      "C:\\Users\\bhatt\\AppData\\Local\\Temp\\ipykernel_8056\\683837856.py:13: SettingWithCopyWarning: \n",
      "A value is trying to be set on a copy of a slice from a DataFrame.\n",
      "Try using .loc[row_indexer,col_indexer] = value instead\n",
      "\n",
      "See the caveats in the documentation: https://pandas.pydata.org/pandas-docs/stable/user_guide/indexing.html#returning-a-view-versus-a-copy\n",
      "  data_updated[['Deck','Num', 'Side']] = data_updated['Cabin'].str.split('/', expand=True)\n",
      "C:\\Users\\bhatt\\AppData\\Local\\Temp\\ipykernel_8056\\683837856.py:13: SettingWithCopyWarning: \n",
      "A value is trying to be set on a copy of a slice from a DataFrame.\n",
      "Try using .loc[row_indexer,col_indexer] = value instead\n",
      "\n",
      "See the caveats in the documentation: https://pandas.pydata.org/pandas-docs/stable/user_guide/indexing.html#returning-a-view-versus-a-copy\n",
      "  data_updated[['Deck','Num', 'Side']] = data_updated['Cabin'].str.split('/', expand=True)\n"
     ]
    },
    {
     "data": {
      "text/html": [
       "<div>\n",
       "<style scoped>\n",
       "    .dataframe tbody tr th:only-of-type {\n",
       "        vertical-align: middle;\n",
       "    }\n",
       "\n",
       "    .dataframe tbody tr th {\n",
       "        vertical-align: top;\n",
       "    }\n",
       "\n",
       "    .dataframe thead th {\n",
       "        text-align: right;\n",
       "    }\n",
       "</style>\n",
       "<table border=\"1\" class=\"dataframe\">\n",
       "  <thead>\n",
       "    <tr style=\"text-align: right;\">\n",
       "      <th></th>\n",
       "      <th>PassengerId</th>\n",
       "      <th>HomePlanet</th>\n",
       "      <th>CryoSleep</th>\n",
       "      <th>Deck</th>\n",
       "      <th>Num</th>\n",
       "      <th>Side</th>\n",
       "      <th>Destination</th>\n",
       "      <th>Age</th>\n",
       "      <th>VIP</th>\n",
       "      <th>Total Expenses</th>\n",
       "      <th>Transported</th>\n",
       "    </tr>\n",
       "  </thead>\n",
       "  <tbody>\n",
       "    <tr>\n",
       "      <th>0</th>\n",
       "      <td>0001_01</td>\n",
       "      <td>Europa</td>\n",
       "      <td>False</td>\n",
       "      <td>B</td>\n",
       "      <td>0</td>\n",
       "      <td>P</td>\n",
       "      <td>TRAPPIST-1e</td>\n",
       "      <td>39.0</td>\n",
       "      <td>False</td>\n",
       "      <td>0.0</td>\n",
       "      <td>False</td>\n",
       "    </tr>\n",
       "    <tr>\n",
       "      <th>1</th>\n",
       "      <td>0002_01</td>\n",
       "      <td>Earth</td>\n",
       "      <td>False</td>\n",
       "      <td>F</td>\n",
       "      <td>0</td>\n",
       "      <td>S</td>\n",
       "      <td>TRAPPIST-1e</td>\n",
       "      <td>24.0</td>\n",
       "      <td>False</td>\n",
       "      <td>692.0</td>\n",
       "      <td>True</td>\n",
       "    </tr>\n",
       "    <tr>\n",
       "      <th>2</th>\n",
       "      <td>0003_01</td>\n",
       "      <td>Europa</td>\n",
       "      <td>False</td>\n",
       "      <td>A</td>\n",
       "      <td>0</td>\n",
       "      <td>S</td>\n",
       "      <td>TRAPPIST-1e</td>\n",
       "      <td>58.0</td>\n",
       "      <td>True</td>\n",
       "      <td>10334.0</td>\n",
       "      <td>False</td>\n",
       "    </tr>\n",
       "    <tr>\n",
       "      <th>3</th>\n",
       "      <td>0003_02</td>\n",
       "      <td>Europa</td>\n",
       "      <td>False</td>\n",
       "      <td>A</td>\n",
       "      <td>0</td>\n",
       "      <td>S</td>\n",
       "      <td>TRAPPIST-1e</td>\n",
       "      <td>33.0</td>\n",
       "      <td>False</td>\n",
       "      <td>4983.0</td>\n",
       "      <td>False</td>\n",
       "    </tr>\n",
       "    <tr>\n",
       "      <th>4</th>\n",
       "      <td>0004_01</td>\n",
       "      <td>Earth</td>\n",
       "      <td>False</td>\n",
       "      <td>F</td>\n",
       "      <td>1</td>\n",
       "      <td>S</td>\n",
       "      <td>TRAPPIST-1e</td>\n",
       "      <td>16.0</td>\n",
       "      <td>False</td>\n",
       "      <td>1089.0</td>\n",
       "      <td>True</td>\n",
       "    </tr>\n",
       "    <tr>\n",
       "      <th>...</th>\n",
       "      <td>...</td>\n",
       "      <td>...</td>\n",
       "      <td>...</td>\n",
       "      <td>...</td>\n",
       "      <td>...</td>\n",
       "      <td>...</td>\n",
       "      <td>...</td>\n",
       "      <td>...</td>\n",
       "      <td>...</td>\n",
       "      <td>...</td>\n",
       "      <td>...</td>\n",
       "    </tr>\n",
       "    <tr>\n",
       "      <th>8688</th>\n",
       "      <td>9276_01</td>\n",
       "      <td>Europa</td>\n",
       "      <td>False</td>\n",
       "      <td>A</td>\n",
       "      <td>98</td>\n",
       "      <td>P</td>\n",
       "      <td>55 Cancri e</td>\n",
       "      <td>41.0</td>\n",
       "      <td>True</td>\n",
       "      <td>8462.0</td>\n",
       "      <td>False</td>\n",
       "    </tr>\n",
       "    <tr>\n",
       "      <th>8689</th>\n",
       "      <td>9278_01</td>\n",
       "      <td>Earth</td>\n",
       "      <td>True</td>\n",
       "      <td>G</td>\n",
       "      <td>1499</td>\n",
       "      <td>S</td>\n",
       "      <td>PSO J318.5-22</td>\n",
       "      <td>18.0</td>\n",
       "      <td>False</td>\n",
       "      <td>0.0</td>\n",
       "      <td>False</td>\n",
       "    </tr>\n",
       "    <tr>\n",
       "      <th>8690</th>\n",
       "      <td>9279_01</td>\n",
       "      <td>Earth</td>\n",
       "      <td>False</td>\n",
       "      <td>G</td>\n",
       "      <td>1500</td>\n",
       "      <td>S</td>\n",
       "      <td>TRAPPIST-1e</td>\n",
       "      <td>26.0</td>\n",
       "      <td>False</td>\n",
       "      <td>1873.0</td>\n",
       "      <td>True</td>\n",
       "    </tr>\n",
       "    <tr>\n",
       "      <th>8691</th>\n",
       "      <td>9280_01</td>\n",
       "      <td>Europa</td>\n",
       "      <td>False</td>\n",
       "      <td>E</td>\n",
       "      <td>608</td>\n",
       "      <td>S</td>\n",
       "      <td>55 Cancri e</td>\n",
       "      <td>32.0</td>\n",
       "      <td>False</td>\n",
       "      <td>1402.0</td>\n",
       "      <td>False</td>\n",
       "    </tr>\n",
       "    <tr>\n",
       "      <th>8692</th>\n",
       "      <td>9280_02</td>\n",
       "      <td>Europa</td>\n",
       "      <td>False</td>\n",
       "      <td>E</td>\n",
       "      <td>608</td>\n",
       "      <td>S</td>\n",
       "      <td>TRAPPIST-1e</td>\n",
       "      <td>44.0</td>\n",
       "      <td>False</td>\n",
       "      <td>4814.0</td>\n",
       "      <td>True</td>\n",
       "    </tr>\n",
       "  </tbody>\n",
       "</table>\n",
       "<p>8693 rows × 11 columns</p>\n",
       "</div>"
      ],
      "text/plain": [
       "     PassengerId HomePlanet CryoSleep Deck   Num Side    Destination   Age  \\\n",
       "0        0001_01     Europa     False    B     0    P    TRAPPIST-1e  39.0   \n",
       "1        0002_01      Earth     False    F     0    S    TRAPPIST-1e  24.0   \n",
       "2        0003_01     Europa     False    A     0    S    TRAPPIST-1e  58.0   \n",
       "3        0003_02     Europa     False    A     0    S    TRAPPIST-1e  33.0   \n",
       "4        0004_01      Earth     False    F     1    S    TRAPPIST-1e  16.0   \n",
       "...          ...        ...       ...  ...   ...  ...            ...   ...   \n",
       "8688     9276_01     Europa     False    A    98    P    55 Cancri e  41.0   \n",
       "8689     9278_01      Earth      True    G  1499    S  PSO J318.5-22  18.0   \n",
       "8690     9279_01      Earth     False    G  1500    S    TRAPPIST-1e  26.0   \n",
       "8691     9280_01     Europa     False    E   608    S    55 Cancri e  32.0   \n",
       "8692     9280_02     Europa     False    E   608    S    TRAPPIST-1e  44.0   \n",
       "\n",
       "        VIP  Total Expenses  Transported  \n",
       "0     False             0.0        False  \n",
       "1     False           692.0         True  \n",
       "2      True         10334.0        False  \n",
       "3     False          4983.0        False  \n",
       "4     False          1089.0         True  \n",
       "...     ...             ...          ...  \n",
       "8688   True          8462.0        False  \n",
       "8689  False             0.0        False  \n",
       "8690  False          1873.0         True  \n",
       "8691  False          1402.0        False  \n",
       "8692  False          4814.0         True  \n",
       "\n",
       "[8693 rows x 11 columns]"
      ]
     },
     "execution_count": 4,
     "metadata": {},
     "output_type": "execute_result"
    }
   ],
   "source": [
    "#Consolidating the 3 columns by Total Expense\n",
    "data_TotalExpenses = data[['RoomService', 'FoodCourt','ShoppingMall','Spa']]\n",
    "\n",
    "#Calculate sum of each row and create 'sum' column\n",
    "data_TotalExpenses['Total Expenses'] = data_TotalExpenses.sum(axis=1)\n",
    "\n",
    "#Create 'Total Expenses' column in the original DataFrame\n",
    "data['Total Expenses'] = data_TotalExpenses['Total Expenses']\n",
    "\n",
    "data_updated = data[['PassengerId', 'HomePlanet', 'CryoSleep', 'Cabin', 'Destination', 'Age', 'VIP', 'Transported', 'Total Expenses']]\n",
    "\n",
    "#Splitting the 'Cabin' column\n",
    "data_updated[['Deck','Num', 'Side']] = data_updated['Cabin'].str.split('/', expand=True)\n",
    "\n",
    "#Selecting the desired columns for the final data_updated DataFrame\n",
    "data_updated = data_updated[['PassengerId', 'HomePlanet', 'CryoSleep', 'Deck', 'Num', 'Side', 'Destination', 'Age', 'VIP', 'Total Expenses','Transported']]\n",
    "data_updated"
   ]
  },
  {
   "cell_type": "code",
   "execution_count": 5,
   "metadata": {
    "colab": {
     "base_uri": "https://localhost:8080/"
    },
    "id": "0i7Y221nZViY",
    "outputId": "5a9b6735-ffd9-4e39-d36a-34a8f102c834"
   },
   "outputs": [
    {
     "name": "stdout",
     "output_type": "stream",
     "text": [
      "PassengerId         0\n",
      "HomePlanet        201\n",
      "CryoSleep         217\n",
      "Deck              199\n",
      "Num               199\n",
      "Side              199\n",
      "Destination       182\n",
      "Age               179\n",
      "VIP               203\n",
      "Total Expenses      0\n",
      "Transported         0\n",
      "dtype: int64\n"
     ]
    }
   ],
   "source": [
    "#print the number of missing values in each column\n",
    "print(data_updated.isnull().sum())"
   ]
  },
  {
   "cell_type": "markdown",
   "metadata": {
    "id": "9mVntb1tzfwR"
   },
   "source": [
    "***Using Mean for Handling missing values for numrical values : Age, Total Expenses***"
   ]
  },
  {
   "cell_type": "code",
   "execution_count": 6,
   "metadata": {
    "colab": {
     "base_uri": "https://localhost:8080/"
    },
    "id": "xYe5z66Ku7qt",
    "outputId": "8ea29b54-67f5-47d9-ac99-441911e6b0c2"
   },
   "outputs": [
    {
     "name": "stdout",
     "output_type": "stream",
     "text": [
      "PassengerId         0\n",
      "HomePlanet        201\n",
      "CryoSleep         217\n",
      "Deck              199\n",
      "Num               199\n",
      "Side              199\n",
      "Destination       182\n",
      "Age                 0\n",
      "VIP               203\n",
      "Total Expenses      0\n",
      "Transported         0\n",
      "dtype: int64\n"
     ]
    }
   ],
   "source": [
    "#Calculate the mean of the 'Age' column\n",
    "mean_age = data_updated['Age'].mean()\n",
    "\n",
    "# Fill missing values in 'Age' column with the mean\n",
    "data_updated['Age'].fillna(mean_age, inplace=True)\n",
    "\n",
    "# Calculate the mean of the 'Total Expenses' column\n",
    "mean_total_expenses = data_updated['Total Expenses'].mean()\n",
    "\n",
    "# Fill missing values in 'Total Expenses' column with the mean\n",
    "data_updated['Total Expenses'].fillna(mean_total_expenses, inplace=True)\n",
    "\n",
    "# Print the number of missing values in each column to verify\n",
    "print(data_updated.isnull().sum())"
   ]
  },
  {
   "cell_type": "code",
   "execution_count": 7,
   "metadata": {
    "colab": {
     "base_uri": "https://localhost:8080/"
    },
    "id": "8pAPhNAbyS0z",
    "outputId": "6e462ca3-39a3-4505-a4a3-37783cbd53de"
   },
   "outputs": [
    {
     "name": "stdout",
     "output_type": "stream",
     "text": [
      "PassengerId         0\n",
      "HomePlanet          0\n",
      "CryoSleep         217\n",
      "Deck              199\n",
      "Num               199\n",
      "Side              199\n",
      "Destination       182\n",
      "Age                 0\n",
      "VIP               203\n",
      "Total Expenses      0\n",
      "Transported         0\n",
      "dtype: int64\n"
     ]
    }
   ],
   "source": [
    "from sklearn.impute import KNNImputer\n",
    "\n",
    "# Create a copy of the DataFrame to avoid modifying the original\n",
    "data_imputed = data_updated.copy()\n",
    "\n",
    "# Select relevant columns for KNN imputation (numerical and categorical)\n",
    "features = ['Age', 'Total Expenses', 'HomePlanet']\n",
    "data_subset = data_imputed[features]\n",
    "\n",
    "# Convert categorical features to numerical using one-hot encoding\n",
    "data_encoded = pd.get_dummies(data_subset, columns=['HomePlanet'])\n",
    "\n",
    "# Initialize KNNImputer\n",
    "imputer = KNNImputer(n_neighbors=5)  # You can adjust the number of neighbors\n",
    "\n",
    "# Fit and transform the data\n",
    "data_imputed_array = imputer.fit_transform(data_encoded)\n",
    "\n",
    "# Convert the imputed array back to a DataFrame\n",
    "data_imputed = pd.DataFrame(data_imputed_array, columns=data_encoded.columns)\n",
    "\n",
    "# Reverse one-hot encoding to get 'HomePlanet' back\n",
    "data_imputed['HomePlanet'] = data_imputed[['HomePlanet_Earth', 'HomePlanet_Europa', 'HomePlanet_Mars']].idxmax(axis=1).str.replace('HomePlanet_', '')\n",
    "\n",
    "# Drop the one-hot encoded columns\n",
    "data_imputed = data_imputed.drop(['HomePlanet_Earth', 'HomePlanet_Europa', 'HomePlanet_Mars'], axis=1)\n",
    "\n",
    "# Update the original DataFrame with imputed 'HomePlanet' values\n",
    "data_updated['HomePlanet'] = data_imputed['HomePlanet']\n",
    "\n",
    "print(data_updated.isnull().sum())"
   ]
  },
  {
   "cell_type": "markdown",
   "metadata": {
    "id": "LhdqM6JzzwKb"
   },
   "source": [
    "***Using KNN for handling missing values in categorical data columns***"
   ]
  },
  {
   "cell_type": "code",
   "execution_count": 8,
   "metadata": {
    "colab": {
     "base_uri": "https://localhost:8080/"
    },
    "id": "lVttZOj6y6K2",
    "outputId": "37f6b9f5-0862-4836-fa7e-126cf24a39fc",
    "scrolled": true
   },
   "outputs": [
    {
     "name": "stdout",
     "output_type": "stream",
     "text": [
      "PassengerId       0\n",
      "HomePlanet        0\n",
      "CryoSleep         0\n",
      "Deck              0\n",
      "Num               0\n",
      "Side              0\n",
      "Destination       0\n",
      "Age               0\n",
      "VIP               0\n",
      "Total Expenses    0\n",
      "Transported       0\n",
      "dtype: int64\n"
     ]
    }
   ],
   "source": [
    "# Create a copy of the DataFrame to avoid modifying the original\n",
    "data_imputed = data_updated.copy()\n",
    "\n",
    "# Select relevant columns for KNN imputation (numerical and categorical)\n",
    "features = ['Age', 'Total Expenses', 'CryoSleep', 'Deck', 'Num', 'Side', 'Destination', 'VIP']\n",
    "data_subset = data_imputed[features]\n",
    "\n",
    "# Convert categorical features to numerical using one-hot encoding\n",
    "data_encoded = pd.get_dummies(data_subset, columns=['CryoSleep', 'Deck', 'Side', 'Destination', 'VIP'], dummy_na=False) #dummy_na=False will ignore nan values during one-hot encoding\n",
    "\n",
    "# Initialize KNNImputer\n",
    "imputer = KNNImputer(n_neighbors=5)  # You can adjust the number of neighbors\n",
    "\n",
    "# Fit and transform the data\n",
    "data_imputed_array = imputer.fit_transform(data_encoded)\n",
    "\n",
    "# Convert the imputed array back to a DataFrame\n",
    "data_imputed = pd.DataFrame(data_imputed_array, columns=data_encoded.columns)\n",
    "\n",
    "# Reverse one-hot encoding to get categorical features back\n",
    "categorical_features = ['CryoSleep', 'Deck', 'Side', 'Destination', 'VIP']\n",
    "for feature in categorical_features:\n",
    "    #Get a list of columns related to the feature\n",
    "    feature_cols = [col for col in data_imputed.columns if feature in col]\n",
    "\n",
    "    #Find the column with the maximum value for each row and extract the category name\n",
    "    data_imputed[feature] = data_imputed[feature_cols].idxmax(axis=1).str.replace(f'{feature}_', '')\n",
    "\n",
    "    #Remove the one-hot encoded columns for the current feature\n",
    "    data_imputed = data_imputed.drop(feature_cols, axis=1)\n",
    "\n",
    "# Update the original DataFrame with imputed values\n",
    "for feature in features:\n",
    "    data_updated[feature] = data_imputed[feature]\n",
    "\n",
    "print(data_updated.isnull().sum())"
   ]
  },
  {
   "cell_type": "code",
   "execution_count": 9,
   "metadata": {
    "scrolled": true
   },
   "outputs": [
    {
     "name": "stdout",
     "output_type": "stream",
     "text": [
      "     PassengerId HomePlanet CryoSleep Deck     Num Side    Destination   Age  \\\n",
      "0        0001_01     Europa     False    B     0.0    P    TRAPPIST-1e  39.0   \n",
      "1        0002_01      Earth     False    F     0.0    S    TRAPPIST-1e  24.0   \n",
      "2        0003_01     Europa     False    A     0.0    S    TRAPPIST-1e  58.0   \n",
      "3        0003_02     Europa     False    A     0.0    S    TRAPPIST-1e  33.0   \n",
      "4        0004_01      Earth     False    F     1.0    S    TRAPPIST-1e  16.0   \n",
      "...          ...        ...       ...  ...     ...  ...            ...   ...   \n",
      "8688     9276_01     Europa     False    A    98.0    P    55 Cancri e  41.0   \n",
      "8689     9278_01      Earth      True    G  1499.0    S  PSO J318.5-22  18.0   \n",
      "8690     9279_01      Earth     False    G  1500.0    S    TRAPPIST-1e  26.0   \n",
      "8691     9280_01     Europa     False    E   608.0    S    55 Cancri e  32.0   \n",
      "8692     9280_02     Europa     False    E   608.0    S    TRAPPIST-1e  44.0   \n",
      "\n",
      "        VIP  Total Expenses  Transported  \n",
      "0     False             0.0        False  \n",
      "1     False           692.0         True  \n",
      "2      True         10334.0        False  \n",
      "3     False          4983.0        False  \n",
      "4     False          1089.0         True  \n",
      "...     ...             ...          ...  \n",
      "8688   True          8462.0        False  \n",
      "8689  False             0.0        False  \n",
      "8690  False          1873.0         True  \n",
      "8691  False          1402.0        False  \n",
      "8692  False          4814.0         True  \n",
      "\n",
      "[8693 rows x 11 columns]\n"
     ]
    }
   ],
   "source": [
    "print(data_updated)"
   ]
  },
  {
   "cell_type": "markdown",
   "metadata": {},
   "source": [
    "#### Using target encoder to handle categorical values"
   ]
  },
  {
   "cell_type": "code",
   "execution_count": 10,
   "metadata": {},
   "outputs": [],
   "source": [
    "# Target Encoding: This enconding is used when the relationship between \n",
    "#categories and the target variable is considerable and cannot be ignored.\n",
    "import category_encoders as ce\n",
    "\n",
    "# Used target encoding on the columns HomePlanet, Destination, Deck, CryoSleep, Side\n",
    "target_encoder = ce.TargetEncoder(cols=['HomePlanet', 'Destination', 'Deck', 'CryoSleep', 'Side'])"
   ]
  },
  {
   "cell_type": "code",
   "execution_count": 11,
   "metadata": {},
   "outputs": [],
   "source": [
    "# Transforming the encoded columns as per the target column\n",
    "data_encoded = target_encoder.fit_transform(data_updated[['HomePlanet', 'Destination', 'Deck', 'CryoSleep', 'Side']], data_updated['Transported'])"
   ]
  },
  {
   "cell_type": "code",
   "execution_count": 12,
   "metadata": {
    "scrolled": true
   },
   "outputs": [
    {
     "name": "stdout",
     "output_type": "stream",
     "text": [
      "      HomePlanet  Destination      Deck  CryoSleep      Side\n",
      "0       0.658846     0.471175  0.734275   0.335042  0.453575\n",
      "1       0.427649     0.471175  0.439871   0.335042  0.555037\n",
      "2       0.658846     0.471175  0.498901   0.335042  0.555037\n",
      "3       0.658846     0.471175  0.498901   0.335042  0.555037\n",
      "4       0.427649     0.471175  0.439871   0.335042  0.555037\n",
      "...          ...          ...       ...        ...       ...\n",
      "8688    0.658846     0.600404  0.498901   0.335042  0.453575\n",
      "8689    0.427649     0.503769  0.516217   0.817583  0.555037\n",
      "8690    0.427649     0.471175  0.516217   0.335042  0.555037\n",
      "8691    0.658846     0.600404  0.357306   0.335042  0.555037\n",
      "8692    0.658846     0.471175  0.357306   0.335042  0.555037\n",
      "\n",
      "[8693 rows x 5 columns]\n"
     ]
    }
   ],
   "source": [
    "print(data_encoded)"
   ]
  },
  {
   "cell_type": "code",
   "execution_count": 13,
   "metadata": {},
   "outputs": [],
   "source": [
    "# Replacing the encoded values of the respective columns in the original dataset\n",
    "data_updated['HomePlanet'] = data_encoded['HomePlanet']\n",
    "data_updated['Destination'] = data_encoded['Destination']\n",
    "data_updated['Deck'] = data_encoded['Deck']\n",
    "data_updated['CryoSleep'] = data_encoded['CryoSleep']\n",
    "data_updated['Side'] = data_encoded['Side']"
   ]
  },
  {
   "cell_type": "code",
   "execution_count": 14,
   "metadata": {},
   "outputs": [
    {
     "name": "stdout",
     "output_type": "stream",
     "text": [
      "     PassengerId  HomePlanet  CryoSleep      Deck     Num      Side  \\\n",
      "0        0001_01    0.658846   0.335042  0.734275     0.0  0.453575   \n",
      "1        0002_01    0.427649   0.335042  0.439871     0.0  0.555037   \n",
      "2        0003_01    0.658846   0.335042  0.498901     0.0  0.555037   \n",
      "3        0003_02    0.658846   0.335042  0.498901     0.0  0.555037   \n",
      "4        0004_01    0.427649   0.335042  0.439871     1.0  0.555037   \n",
      "...          ...         ...        ...       ...     ...       ...   \n",
      "8688     9276_01    0.658846   0.335042  0.498901    98.0  0.453575   \n",
      "8689     9278_01    0.427649   0.817583  0.516217  1499.0  0.555037   \n",
      "8690     9279_01    0.427649   0.335042  0.516217  1500.0  0.555037   \n",
      "8691     9280_01    0.658846   0.335042  0.357306   608.0  0.555037   \n",
      "8692     9280_02    0.658846   0.335042  0.357306   608.0  0.555037   \n",
      "\n",
      "      Destination   Age    VIP  Total Expenses  Transported  \n",
      "0        0.471175  39.0  False             0.0        False  \n",
      "1        0.471175  24.0  False           692.0         True  \n",
      "2        0.471175  58.0   True         10334.0        False  \n",
      "3        0.471175  33.0  False          4983.0        False  \n",
      "4        0.471175  16.0  False          1089.0         True  \n",
      "...           ...   ...    ...             ...          ...  \n",
      "8688     0.600404  41.0   True          8462.0        False  \n",
      "8689     0.503769  18.0  False             0.0        False  \n",
      "8690     0.471175  26.0  False          1873.0         True  \n",
      "8691     0.600404  32.0  False          1402.0        False  \n",
      "8692     0.471175  44.0  False          4814.0         True  \n",
      "\n",
      "[8693 rows x 11 columns]\n"
     ]
    }
   ],
   "source": [
    "print(data_updated)"
   ]
  },
  {
   "cell_type": "code",
   "execution_count": 15,
   "metadata": {},
   "outputs": [
    {
     "name": "stdout",
     "output_type": "stream",
     "text": [
      "object\n"
     ]
    }
   ],
   "source": [
    "print(data_updated['VIP'].dtype)"
   ]
  },
  {
   "cell_type": "code",
   "execution_count": 16,
   "metadata": {},
   "outputs": [
    {
     "name": "stdout",
     "output_type": "stream",
     "text": [
      "     PassengerId  HomePlanet  CryoSleep      Deck     Num      Side  \\\n",
      "0        0001_01    0.658846   0.335042  0.734275     0.0  0.453575   \n",
      "1        0002_01    0.427649   0.335042  0.439871     0.0  0.555037   \n",
      "2        0003_01    0.658846   0.335042  0.498901     0.0  0.555037   \n",
      "3        0003_02    0.658846   0.335042  0.498901     0.0  0.555037   \n",
      "4        0004_01    0.427649   0.335042  0.439871     1.0  0.555037   \n",
      "...          ...         ...        ...       ...     ...       ...   \n",
      "8688     9276_01    0.658846   0.335042  0.498901    98.0  0.453575   \n",
      "8689     9278_01    0.427649   0.817583  0.516217  1499.0  0.555037   \n",
      "8690     9279_01    0.427649   0.335042  0.516217  1500.0  0.555037   \n",
      "8691     9280_01    0.658846   0.335042  0.357306   608.0  0.555037   \n",
      "8692     9280_02    0.658846   0.335042  0.357306   608.0  0.555037   \n",
      "\n",
      "      Destination   Age  VIP  Total Expenses  Transported  \n",
      "0        0.471175  39.0    0             0.0        False  \n",
      "1        0.471175  24.0    0           692.0         True  \n",
      "2        0.471175  58.0    1         10334.0        False  \n",
      "3        0.471175  33.0    0          4983.0        False  \n",
      "4        0.471175  16.0    0          1089.0         True  \n",
      "...           ...   ...  ...             ...          ...  \n",
      "8688     0.600404  41.0    1          8462.0        False  \n",
      "8689     0.503769  18.0    0             0.0        False  \n",
      "8690     0.471175  26.0    0          1873.0         True  \n",
      "8691     0.600404  32.0    0          1402.0        False  \n",
      "8692     0.471175  44.0    0          4814.0         True  \n",
      "\n",
      "[8693 rows x 11 columns]\n"
     ]
    }
   ],
   "source": [
    "# For the column VIP, replaced the False value with 0 and True value with 1\n",
    "data_updated['VIP'] = data_updated['VIP'].replace({'True': 1, 'False': 0})\n",
    "print(data_updated)"
   ]
  },
  {
   "cell_type": "code",
   "execution_count": 17,
   "metadata": {},
   "outputs": [],
   "source": [
    "# Splitting and storing the taget column and the sample columns\n",
    "X = data_updated[['PassengerId','HomePlanet','CryoSleep','Deck','Num','Side','Destination','Age','VIP','Total Expenses']]\n",
    "y = data_updated[['Transported']]"
   ]
  },
  {
   "cell_type": "code",
   "execution_count": 18,
   "metadata": {
    "scrolled": false
   },
   "outputs": [
    {
     "name": "stdout",
     "output_type": "stream",
     "text": [
      "     PassengerId  HomePlanet  CryoSleep      Deck     Num      Side  \\\n",
      "0        0001_01    0.658846   0.335042  0.734275     0.0  0.453575   \n",
      "1        0002_01    0.427649   0.335042  0.439871     0.0  0.555037   \n",
      "2        0003_01    0.658846   0.335042  0.498901     0.0  0.555037   \n",
      "3        0003_02    0.658846   0.335042  0.498901     0.0  0.555037   \n",
      "4        0004_01    0.427649   0.335042  0.439871     1.0  0.555037   \n",
      "...          ...         ...        ...       ...     ...       ...   \n",
      "8688     9276_01    0.658846   0.335042  0.498901    98.0  0.453575   \n",
      "8689     9278_01    0.427649   0.817583  0.516217  1499.0  0.555037   \n",
      "8690     9279_01    0.427649   0.335042  0.516217  1500.0  0.555037   \n",
      "8691     9280_01    0.658846   0.335042  0.357306   608.0  0.555037   \n",
      "8692     9280_02    0.658846   0.335042  0.357306   608.0  0.555037   \n",
      "\n",
      "      Destination   Age  VIP  Total Expenses  \n",
      "0        0.471175  39.0    0             0.0  \n",
      "1        0.471175  24.0    0           692.0  \n",
      "2        0.471175  58.0    1         10334.0  \n",
      "3        0.471175  33.0    0          4983.0  \n",
      "4        0.471175  16.0    0          1089.0  \n",
      "...           ...   ...  ...             ...  \n",
      "8688     0.600404  41.0    1          8462.0  \n",
      "8689     0.503769  18.0    0             0.0  \n",
      "8690     0.471175  26.0    0          1873.0  \n",
      "8691     0.600404  32.0    0          1402.0  \n",
      "8692     0.471175  44.0    0          4814.0  \n",
      "\n",
      "[8693 rows x 10 columns]\n"
     ]
    }
   ],
   "source": [
    "print(X)"
   ]
  },
  {
   "cell_type": "code",
   "execution_count": 19,
   "metadata": {},
   "outputs": [
    {
     "name": "stdout",
     "output_type": "stream",
     "text": [
      "      Transported\n",
      "0           False\n",
      "1            True\n",
      "2           False\n",
      "3           False\n",
      "4            True\n",
      "...           ...\n",
      "8688        False\n",
      "8689        False\n",
      "8690         True\n",
      "8691        False\n",
      "8692         True\n",
      "\n",
      "[8693 rows x 1 columns]\n"
     ]
    }
   ],
   "source": [
    "print(y)"
   ]
  },
  {
   "cell_type": "code",
   "execution_count": 26,
   "metadata": {},
   "outputs": [],
   "source": [
    "# Splitting the training and validation set in 80:20 ratio\n",
    "X_train, X_test , y_train, y_test = train_test_split(X, y, test_size = 0.2)"
   ]
  },
  {
   "cell_type": "code",
   "execution_count": 27,
   "metadata": {
    "scrolled": false
   },
   "outputs": [
    {
     "name": "stdout",
     "output_type": "stream",
     "text": [
      "     PassengerId  HomePlanet  CryoSleep      Deck     Num      Side  \\\n",
      "2990     3236_02    0.427649   0.335042  0.439871   676.0  0.453575   \n",
      "3300     3546_01    0.427649   0.335042  0.439871   672.0  0.555037   \n",
      "686      0714_03    0.427649   0.335042  0.516217   109.0  0.453575   \n",
      "6405     6764_02    0.523024   0.335042  0.439871  1294.0  0.555037   \n",
      "7882     8411_01    0.427649   0.335042  0.439871  1726.0  0.453575   \n",
      "...          ...         ...        ...       ...     ...       ...   \n",
      "1966     2099_01    0.523024   0.335042  0.433054    71.0  0.555037   \n",
      "84       0091_02    0.427649   0.335042  0.439871    20.0  0.555037   \n",
      "748      0787_01    0.427649   0.817583  0.516217   114.0  0.453575   \n",
      "3477     3742_01    0.427649   0.817583  0.516217   607.0  0.453575   \n",
      "1161     1228_02    0.523024   0.335042  0.357306    89.0  0.555037   \n",
      "\n",
      "      Destination   Age  VIP  Total Expenses  \n",
      "2990     0.471175  31.0    0          1371.0  \n",
      "3300     0.471175  36.0    0            10.0  \n",
      "686      0.600404  12.0    0             0.0  \n",
      "6405     0.471175  31.0    0          2576.0  \n",
      "7882     0.471175  15.0    0          3137.0  \n",
      "...           ...   ...  ...             ...  \n",
      "1966     0.600404  45.0    0          2579.0  \n",
      "84       0.471175  27.0    0           917.0  \n",
      "748      0.471175   7.0    0             0.0  \n",
      "3477     0.600404   2.0    0             0.0  \n",
      "1161     0.471175  59.0    0          1049.0  \n",
      "\n",
      "[6954 rows x 10 columns]\n"
     ]
    }
   ],
   "source": [
    "print(X_train)"
   ]
  },
  {
   "cell_type": "code",
   "execution_count": 28,
   "metadata": {
    "scrolled": false
   },
   "outputs": [
    {
     "name": "stdout",
     "output_type": "stream",
     "text": [
      "      Transported\n",
      "2990        False\n",
      "3300        False\n",
      "686          True\n",
      "6405         True\n",
      "7882         True\n",
      "...           ...\n",
      "1966         True\n",
      "84          False\n",
      "748         False\n",
      "3477        False\n",
      "1161         True\n",
      "\n",
      "[6954 rows x 1 columns]\n"
     ]
    }
   ],
   "source": [
    "print(y_train)"
   ]
  },
  {
   "cell_type": "code",
   "execution_count": 29,
   "metadata": {},
   "outputs": [
    {
     "name": "stdout",
     "output_type": "stream",
     "text": [
      "     PassengerId  HomePlanet  CryoSleep      Deck     Num      Side  \\\n",
      "1190     1263_01    0.523024   0.335042  0.439871   244.0  0.555037   \n",
      "7980     8537_02    0.523024   0.335042  0.439871  1643.0  0.555037   \n",
      "2514     2701_01    0.427649   0.817583  0.516217   428.0  0.555037   \n",
      "3791     4044_03    0.523024   0.817583  0.439871   765.0  0.555037   \n",
      "22       0020_02    0.427649   0.817583  0.357306     0.0  0.555037   \n",
      "...          ...         ...        ...       ...     ...       ...   \n",
      "1830     1959_02    0.658846   0.335042  0.680054    66.0  0.453575   \n",
      "5519     5885_07    0.427649   0.335042  0.516217   954.0  0.555037   \n",
      "6598     6967_01    0.658846   0.335042  0.680054   256.0  0.555037   \n",
      "8492     9073_01    0.658846   0.335042  0.498901   107.0  0.555037   \n",
      "6976     7410_01    0.427649   0.335042  0.516217  1201.0  0.555037   \n",
      "\n",
      "      Destination   Age  VIP  Total Expenses  \n",
      "1190     0.471175  25.0    0          1151.0  \n",
      "7980     0.471175  39.0    0          5617.0  \n",
      "2514     0.503769  20.0    0             0.0  \n",
      "3791     0.471175  10.0    0             0.0  \n",
      "22       0.600404  49.0    0             0.0  \n",
      "...           ...   ...  ...             ...  \n",
      "1830     0.471175  40.0    0           383.0  \n",
      "5519     0.471175  27.0    0             0.0  \n",
      "6598     0.600404  37.0    0         15662.0  \n",
      "8492     0.471175  13.0    0          3307.0  \n",
      "6976     0.471175  41.0    0           889.0  \n",
      "\n",
      "[1739 rows x 10 columns]\n"
     ]
    }
   ],
   "source": [
    "print(X_test)"
   ]
  },
  {
   "cell_type": "code",
   "execution_count": 30,
   "metadata": {},
   "outputs": [
    {
     "name": "stdout",
     "output_type": "stream",
     "text": [
      "      Transported\n",
      "1190        False\n",
      "7980        False\n",
      "2514         True\n",
      "3791         True\n",
      "22          False\n",
      "...           ...\n",
      "1830        False\n",
      "5519        False\n",
      "6598        False\n",
      "8492        False\n",
      "6976         True\n",
      "\n",
      "[1739 rows x 1 columns]\n"
     ]
    }
   ],
   "source": [
    "print(y_test)"
   ]
  },
  {
   "cell_type": "code",
   "execution_count": 31,
   "metadata": {},
   "outputs": [
    {
     "name": "stderr",
     "output_type": "stream",
     "text": [
      "C:\\Users\\bhatt\\anaconda3\\lib\\site-packages\\sklearn\\utils\\validation.py:993: DataConversionWarning: A column-vector y was passed when a 1d array was expected. Please change the shape of y to (n_samples, ), for example using ravel().\n",
      "  y = column_or_1d(y, warn=True)\n"
     ]
    },
    {
     "data": {
      "text/plain": [
       "LogisticRegression()"
      ]
     },
     "execution_count": 31,
     "metadata": {},
     "output_type": "execute_result"
    }
   ],
   "source": [
    "# Initializing the Logisitc Regression Model\n",
    "model = LogisticRegression()\n",
    "model.fit(X_train, y_train)"
   ]
  },
  {
   "cell_type": "code",
   "execution_count": 32,
   "metadata": {},
   "outputs": [],
   "source": [
    "y_pred = model.predict(X_test)"
   ]
  },
  {
   "cell_type": "code",
   "execution_count": 33,
   "metadata": {},
   "outputs": [],
   "source": [
    "accuracy = accuracy_score(y_test, y_pred)\n",
    "conf_matrix = confusion_matrix(y_test, y_pred)\n",
    "class_report = classification_report(y_test, y_pred)"
   ]
  },
  {
   "cell_type": "code",
   "execution_count": 34,
   "metadata": {},
   "outputs": [
    {
     "name": "stdout",
     "output_type": "stream",
     "text": [
      "Accuracy : 0.6182\n",
      "Confusion Matrix :\n",
      "[[554 309]\n",
      " [355 521]]\n",
      "Classification Report :\n",
      "              precision    recall  f1-score   support\n",
      "\n",
      "       False       0.61      0.64      0.63       863\n",
      "        True       0.63      0.59      0.61       876\n",
      "\n",
      "    accuracy                           0.62      1739\n",
      "   macro avg       0.62      0.62      0.62      1739\n",
      "weighted avg       0.62      0.62      0.62      1739\n",
      "\n"
     ]
    }
   ],
   "source": [
    "print(f'Accuracy : {accuracy:.4f}')\n",
    "print('Confusion Matrix :')\n",
    "print(conf_matrix)\n",
    "print('Classification Report :')\n",
    "print(class_report)"
   ]
  },
  {
   "cell_type": "markdown",
   "metadata": {},
   "source": [
    "#### Using F1 score and AUC-ROC for model performance measure"
   ]
  },
  {
   "cell_type": "code",
   "execution_count": 40,
   "metadata": {},
   "outputs": [],
   "source": [
    "from sklearn.metrics import f1_score, roc_auc_score, roc_curve"
   ]
  },
  {
   "cell_type": "code",
   "execution_count": 37,
   "metadata": {},
   "outputs": [
    {
     "name": "stdout",
     "output_type": "stream",
     "text": [
      "F1 Score: 0.6108\n"
     ]
    }
   ],
   "source": [
    "# Calculate F1 Score\n",
    "f1 = f1_score(y_test, y_pred)\n",
    "print(f'F1 Score: {f1:.4f}')"
   ]
  },
  {
   "cell_type": "code",
   "execution_count": 38,
   "metadata": {},
   "outputs": [
    {
     "name": "stdout",
     "output_type": "stream",
     "text": [
      "AUC-ROC: 0.6668\n"
     ]
    }
   ],
   "source": [
    "y_prob = model.predict_proba(X_test)[:, 1]\n",
    "\n",
    "# Calculate AUC-ROC\n",
    "roc_auc = roc_auc_score(y_test, y_prob)\n",
    "print(f'AUC-ROC: {roc_auc:.4f}')"
   ]
  },
  {
   "cell_type": "code",
   "execution_count": 41,
   "metadata": {},
   "outputs": [],
   "source": [
    "# Compute ROC curve\n",
    "fpr, tpr, thresholds = roc_curve(y_test, y_prob)"
   ]
  },
  {
   "cell_type": "code",
   "execution_count": 43,
   "metadata": {},
   "outputs": [
    {
     "data": {
      "image/png": "[encoded data removed]",
      "text/plain": [
       "<Figure size 576x432 with 1 Axes>"
      ]
     },
     "metadata": {
      "needs_background": "light"
     },
     "output_type": "display_data"
    }
   ],
   "source": [
    "# Plotting the ROC curve\n",
    "plt.figure(figsize=(8, 6))\n",
    "plt.plot(fpr, tpr, color='green', label=f'ROC curve (AUC = {roc_auc:.2f})')\n",
    "plt.plot([0, 1], [0, 1], color='red', linestyle='--')  # Diagonal line\n",
    "plt.xlim([0.0, 1.0])\n",
    "plt.ylim([0.0, 1.0])\n",
    "plt.xlabel('False Positive Rate')\n",
    "plt.ylabel('True Positive Rate')\n",
    "plt.title('Receiver Operating Characteristic (ROC) Curve')\n",
    "plt.legend(loc='lower right')\n",
    "plt.grid()\n",
    "plt.show()"
   ]
  },
  {
   "cell_type": "code",
   "execution_count": null,
   "metadata": {},
   "outputs": [],
   "source": []
  }
 ],
 "metadata": {
  "colab": {
   "provenance": []
  },
  "kernelspec": {
   "display_name": "Python 3 (ipykernel)",
   "language": "python",
   "name": "python3"
  },
  "language_info": {
   "codemirror_mode": {
    "name": "ipython",
    "version": 3
   },
   "file_extension": ".py",
   "mimetype": "text/x-python",
   "name": "python",
   "nbconvert_exporter": "python",
   "pygments_lexer": "ipython3",
   "version": "3.9.12"
  }
 },
 "nbformat": 4,
 "nbformat_minor": 1
}
